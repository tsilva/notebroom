{
  "nbformat": 4,
  "nbformat_minor": 0,
  "metadata": {
    "colab": {
      "provenance": [],
      "gpuType": "T4",
      "authorship_tag": "ABX9TyNlFgBqCO5Dazd9PEShYZbL",
      "include_colab_link": true
    },
    "kernelspec": {
      "name": "python3",
      "display_name": "Python 3"
    },
    "language_info": {
      "name": "python"
    },
    "accelerator": "GPU"
  },
  "cells": [
    {
      "cell_type": "markdown",
      "metadata": {
        "id": "view-in-github",
        "colab_type": "text"
      },
      "source": [
        "<a href=\"https://colab.research.google.com/github/tsilva/aiml-notebooks/blob/main/misc/wip-mnist-denoising-with-autoencoder.ipynb\" target=\"_parent\"><img src=\"https://colab.research.google.com/assets/colab-badge.svg\" alt=\"Open In Colab\"/></a>"
      ]
    },
    {
      "cell_type": "markdown",
      "source": [
        "## Denoising MNIST with an Autoencoder"
      ],
      "metadata": {
        "id": "OFBb0Gee6vv1"
      }
    },
    {
      "cell_type": "markdown",
      "source": [
        "In this notebook we are going to train an autoencoder model to remove noise from noisy MNIST images."
      ],
      "metadata": {
        "id": "aS9kmwE360Xg"
      }
    },
    {
      "cell_type": "markdown",
      "source": [
        "## Setup"
      ],
      "metadata": {
        "id": "S4Is13pF67er"
      }
    },
    {
      "cell_type": "markdown",
      "source": [
        "First, let's install the necessary packages for our project:\n",
        "- PyTorch: Deep learning framework for building our neural networks\n",
        "- tsilva-notebook-utils: Utility functions for notebook visualizations\n",
        "- Gradio: Library for creating interactive UI components\n"
      ],
      "metadata": {
        "id": "PhFNXNaB68ys"
      }
    },
    {
      "cell_type": "code",
      "source": [
        "!pip install torch # We'll need PyTorch\n",
        "!pip install tsilva-notebook-utils # Misc utilities to facilitate building of notebooks\n",
        "!pip install gradio # We'll build a gradio ui at the end of the notebook"
      ],
      "metadata": {
        "colab": {
          "base_uri": "https://localhost:8080/"
        },
        "id": "hSdespnI68S0",
        "outputId": "d1dfce2d-f905-49e5-df49-98f2b7f66973"
      },
      "execution_count": 18,
      "outputs": [
        {
          "output_type": "stream",
          "name": "stdout",
          "text": [
            "Requirement already satisfied: torch in /usr/local/lib/python3.11/dist-packages (2.5.1+cu124)\n",
            "Requirement already satisfied: filelock in /usr/local/lib/python3.11/dist-packages (from torch) (3.17.0)\n",
            "Requirement already satisfied: typing-extensions>=4.8.0 in /usr/local/lib/python3.11/dist-packages (from torch) (4.12.2)\n",
            "Requirement already satisfied: networkx in /usr/local/lib/python3.11/dist-packages (from torch) (3.4.2)\n",
            "Requirement already satisfied: jinja2 in /usr/local/lib/python3.11/dist-packages (from torch) (3.1.5)\n",
            "Requirement already satisfied: fsspec in /usr/local/lib/python3.11/dist-packages (from torch) (2024.10.0)\n",
            "Requirement already satisfied: nvidia-cuda-nvrtc-cu12==12.4.127 in /usr/local/lib/python3.11/dist-packages (from torch) (12.4.127)\n",
            "Requirement already satisfied: nvidia-cuda-runtime-cu12==12.4.127 in /usr/local/lib/python3.11/dist-packages (from torch) (12.4.127)\n",
            "Requirement already satisfied: nvidia-cuda-cupti-cu12==12.4.127 in /usr/local/lib/python3.11/dist-packages (from torch) (12.4.127)\n",
            "Requirement already satisfied: nvidia-cudnn-cu12==9.1.0.70 in /usr/local/lib/python3.11/dist-packages (from torch) (9.1.0.70)\n",
            "Requirement already satisfied: nvidia-cublas-cu12==12.4.5.8 in /usr/local/lib/python3.11/dist-packages (from torch) (12.4.5.8)\n",
            "Requirement already satisfied: nvidia-cufft-cu12==11.2.1.3 in /usr/local/lib/python3.11/dist-packages (from torch) (11.2.1.3)\n",
            "Requirement already satisfied: nvidia-curand-cu12==10.3.5.147 in /usr/local/lib/python3.11/dist-packages (from torch) (10.3.5.147)\n",
            "Requirement already satisfied: nvidia-cusolver-cu12==11.6.1.9 in /usr/local/lib/python3.11/dist-packages (from torch) (11.6.1.9)\n",
            "Requirement already satisfied: nvidia-cusparse-cu12==12.3.1.170 in /usr/local/lib/python3.11/dist-packages (from torch) (12.3.1.170)\n",
            "Requirement already satisfied: nvidia-nccl-cu12==2.21.5 in /usr/local/lib/python3.11/dist-packages (from torch) (2.21.5)\n",
            "Requirement already satisfied: nvidia-nvtx-cu12==12.4.127 in /usr/local/lib/python3.11/dist-packages (from torch) (12.4.127)\n",
            "Requirement already satisfied: nvidia-nvjitlink-cu12==12.4.127 in /usr/local/lib/python3.11/dist-packages (from torch) (12.4.127)\n",
            "Requirement already satisfied: triton==3.1.0 in /usr/local/lib/python3.11/dist-packages (from torch) (3.1.0)\n",
            "Requirement already satisfied: sympy==1.13.1 in /usr/local/lib/python3.11/dist-packages (from torch) (1.13.1)\n",
            "Requirement already satisfied: mpmath<1.4,>=1.1.0 in /usr/local/lib/python3.11/dist-packages (from sympy==1.13.1->torch) (1.3.0)\n",
            "Requirement already satisfied: MarkupSafe>=2.0 in /usr/local/lib/python3.11/dist-packages (from jinja2->torch) (2.1.5)\n",
            "Requirement already satisfied: tsilva-notebook-utils in /usr/local/lib/python3.11/dist-packages (0.1.6)\n",
            "Requirement already satisfied: ipython>=7.0.0 in /usr/local/lib/python3.11/dist-packages (from tsilva-notebook-utils) (7.34.0)\n",
            "Requirement already satisfied: opencv-python>=4.0.0 in /usr/local/lib/python3.11/dist-packages (from tsilva-notebook-utils) (4.11.0.86)\n",
            "Requirement already satisfied: imageio>=2.0.0 in /usr/local/lib/python3.11/dist-packages (from tsilva-notebook-utils) (2.37.0)\n",
            "Requirement already satisfied: numpy>=1.19.0 in /usr/local/lib/python3.11/dist-packages (from tsilva-notebook-utils) (1.26.4)\n",
            "Requirement already satisfied: pillow>=8.3.2 in /usr/local/lib/python3.11/dist-packages (from imageio>=2.0.0->tsilva-notebook-utils) (11.1.0)\n",
            "Requirement already satisfied: setuptools>=18.5 in /usr/local/lib/python3.11/dist-packages (from ipython>=7.0.0->tsilva-notebook-utils) (75.1.0)\n",
            "Requirement already satisfied: jedi>=0.16 in /usr/local/lib/python3.11/dist-packages (from ipython>=7.0.0->tsilva-notebook-utils) (0.19.2)\n",
            "Requirement already satisfied: decorator in /usr/local/lib/python3.11/dist-packages (from ipython>=7.0.0->tsilva-notebook-utils) (4.4.2)\n",
            "Requirement already satisfied: pickleshare in /usr/local/lib/python3.11/dist-packages (from ipython>=7.0.0->tsilva-notebook-utils) (0.7.5)\n",
            "Requirement already satisfied: traitlets>=4.2 in /usr/local/lib/python3.11/dist-packages (from ipython>=7.0.0->tsilva-notebook-utils) (5.7.1)\n",
            "Requirement already satisfied: prompt-toolkit!=3.0.0,!=3.0.1,<3.1.0,>=2.0.0 in /usr/local/lib/python3.11/dist-packages (from ipython>=7.0.0->tsilva-notebook-utils) (3.0.50)\n",
            "Requirement already satisfied: pygments in /usr/local/lib/python3.11/dist-packages (from ipython>=7.0.0->tsilva-notebook-utils) (2.18.0)\n",
            "Requirement already satisfied: backcall in /usr/local/lib/python3.11/dist-packages (from ipython>=7.0.0->tsilva-notebook-utils) (0.2.0)\n",
            "Requirement already satisfied: matplotlib-inline in /usr/local/lib/python3.11/dist-packages (from ipython>=7.0.0->tsilva-notebook-utils) (0.1.7)\n",
            "Requirement already satisfied: pexpect>4.3 in /usr/local/lib/python3.11/dist-packages (from ipython>=7.0.0->tsilva-notebook-utils) (4.9.0)\n",
            "Requirement already satisfied: parso<0.9.0,>=0.8.4 in /usr/local/lib/python3.11/dist-packages (from jedi>=0.16->ipython>=7.0.0->tsilva-notebook-utils) (0.8.4)\n",
            "Requirement already satisfied: ptyprocess>=0.5 in /usr/local/lib/python3.11/dist-packages (from pexpect>4.3->ipython>=7.0.0->tsilva-notebook-utils) (0.7.0)\n",
            "Requirement already satisfied: wcwidth in /usr/local/lib/python3.11/dist-packages (from prompt-toolkit!=3.0.0,!=3.0.1,<3.1.0,>=2.0.0->ipython>=7.0.0->tsilva-notebook-utils) (0.2.13)\n",
            "Requirement already satisfied: gradio in /usr/local/lib/python3.11/dist-packages (5.20.0)\n",
            "Requirement already satisfied: aiofiles<24.0,>=22.0 in /usr/local/lib/python3.11/dist-packages (from gradio) (23.2.1)\n",
            "Requirement already satisfied: anyio<5.0,>=3.0 in /usr/local/lib/python3.11/dist-packages (from gradio) (3.7.1)\n",
            "Requirement already satisfied: fastapi<1.0,>=0.115.2 in /usr/local/lib/python3.11/dist-packages (from gradio) (0.115.11)\n",
            "Requirement already satisfied: ffmpy in /usr/local/lib/python3.11/dist-packages (from gradio) (0.5.0)\n",
            "Requirement already satisfied: gradio-client==1.7.2 in /usr/local/lib/python3.11/dist-packages (from gradio) (1.7.2)\n",
            "Requirement already satisfied: groovy~=0.1 in /usr/local/lib/python3.11/dist-packages (from gradio) (0.1.2)\n",
            "Requirement already satisfied: httpx>=0.24.1 in /usr/local/lib/python3.11/dist-packages (from gradio) (0.28.1)\n",
            "Requirement already satisfied: huggingface-hub>=0.28.1 in /usr/local/lib/python3.11/dist-packages (from gradio) (0.28.1)\n",
            "Requirement already satisfied: jinja2<4.0 in /usr/local/lib/python3.11/dist-packages (from gradio) (3.1.5)\n",
            "Requirement already satisfied: markupsafe~=2.0 in /usr/local/lib/python3.11/dist-packages (from gradio) (2.1.5)\n",
            "Requirement already satisfied: numpy<3.0,>=1.0 in /usr/local/lib/python3.11/dist-packages (from gradio) (1.26.4)\n",
            "Requirement already satisfied: orjson~=3.0 in /usr/local/lib/python3.11/dist-packages (from gradio) (3.10.15)\n",
            "Requirement already satisfied: packaging in /usr/local/lib/python3.11/dist-packages (from gradio) (24.2)\n",
            "Requirement already satisfied: pandas<3.0,>=1.0 in /usr/local/lib/python3.11/dist-packages (from gradio) (2.2.2)\n",
            "Requirement already satisfied: pillow<12.0,>=8.0 in /usr/local/lib/python3.11/dist-packages (from gradio) (11.1.0)\n",
            "Requirement already satisfied: pydantic>=2.0 in /usr/local/lib/python3.11/dist-packages (from gradio) (2.10.6)\n",
            "Requirement already satisfied: pydub in /usr/local/lib/python3.11/dist-packages (from gradio) (0.25.1)\n",
            "Requirement already satisfied: python-multipart>=0.0.18 in /usr/local/lib/python3.11/dist-packages (from gradio) (0.0.20)\n",
            "Requirement already satisfied: pyyaml<7.0,>=5.0 in /usr/local/lib/python3.11/dist-packages (from gradio) (6.0.2)\n",
            "Requirement already satisfied: ruff>=0.9.3 in /usr/local/lib/python3.11/dist-packages (from gradio) (0.9.9)\n",
            "Requirement already satisfied: safehttpx<0.2.0,>=0.1.6 in /usr/local/lib/python3.11/dist-packages (from gradio) (0.1.6)\n",
            "Requirement already satisfied: semantic-version~=2.0 in /usr/local/lib/python3.11/dist-packages (from gradio) (2.10.0)\n",
            "Requirement already satisfied: starlette<1.0,>=0.40.0 in /usr/local/lib/python3.11/dist-packages (from gradio) (0.46.0)\n",
            "Requirement already satisfied: tomlkit<0.14.0,>=0.12.0 in /usr/local/lib/python3.11/dist-packages (from gradio) (0.13.2)\n",
            "Requirement already satisfied: typer<1.0,>=0.12 in /usr/local/lib/python3.11/dist-packages (from gradio) (0.15.1)\n",
            "Requirement already satisfied: typing-extensions~=4.0 in /usr/local/lib/python3.11/dist-packages (from gradio) (4.12.2)\n",
            "Requirement already satisfied: uvicorn>=0.14.0 in /usr/local/lib/python3.11/dist-packages (from gradio) (0.34.0)\n",
            "Requirement already satisfied: fsspec in /usr/local/lib/python3.11/dist-packages (from gradio-client==1.7.2->gradio) (2024.10.0)\n",
            "Requirement already satisfied: websockets<16.0,>=10.0 in /usr/local/lib/python3.11/dist-packages (from gradio-client==1.7.2->gradio) (14.2)\n",
            "Requirement already satisfied: idna>=2.8 in /usr/local/lib/python3.11/dist-packages (from anyio<5.0,>=3.0->gradio) (3.10)\n",
            "Requirement already satisfied: sniffio>=1.1 in /usr/local/lib/python3.11/dist-packages (from anyio<5.0,>=3.0->gradio) (1.3.1)\n",
            "Requirement already satisfied: certifi in /usr/local/lib/python3.11/dist-packages (from httpx>=0.24.1->gradio) (2025.1.31)\n",
            "Requirement already satisfied: httpcore==1.* in /usr/local/lib/python3.11/dist-packages (from httpx>=0.24.1->gradio) (1.0.7)\n",
            "Requirement already satisfied: h11<0.15,>=0.13 in /usr/local/lib/python3.11/dist-packages (from httpcore==1.*->httpx>=0.24.1->gradio) (0.14.0)\n",
            "Requirement already satisfied: filelock in /usr/local/lib/python3.11/dist-packages (from huggingface-hub>=0.28.1->gradio) (3.17.0)\n",
            "Requirement already satisfied: requests in /usr/local/lib/python3.11/dist-packages (from huggingface-hub>=0.28.1->gradio) (2.32.3)\n",
            "Requirement already satisfied: tqdm>=4.42.1 in /usr/local/lib/python3.11/dist-packages (from huggingface-hub>=0.28.1->gradio) (4.67.1)\n",
            "Requirement already satisfied: python-dateutil>=2.8.2 in /usr/local/lib/python3.11/dist-packages (from pandas<3.0,>=1.0->gradio) (2.8.2)\n",
            "Requirement already satisfied: pytz>=2020.1 in /usr/local/lib/python3.11/dist-packages (from pandas<3.0,>=1.0->gradio) (2025.1)\n",
            "Requirement already satisfied: tzdata>=2022.7 in /usr/local/lib/python3.11/dist-packages (from pandas<3.0,>=1.0->gradio) (2025.1)\n",
            "Requirement already satisfied: annotated-types>=0.6.0 in /usr/local/lib/python3.11/dist-packages (from pydantic>=2.0->gradio) (0.7.0)\n",
            "Requirement already satisfied: pydantic-core==2.27.2 in /usr/local/lib/python3.11/dist-packages (from pydantic>=2.0->gradio) (2.27.2)\n",
            "Requirement already satisfied: click>=8.0.0 in /usr/local/lib/python3.11/dist-packages (from typer<1.0,>=0.12->gradio) (8.1.8)\n",
            "Requirement already satisfied: shellingham>=1.3.0 in /usr/local/lib/python3.11/dist-packages (from typer<1.0,>=0.12->gradio) (1.5.4)\n",
            "Requirement already satisfied: rich>=10.11.0 in /usr/local/lib/python3.11/dist-packages (from typer<1.0,>=0.12->gradio) (13.9.4)\n",
            "Requirement already satisfied: six>=1.5 in /usr/local/lib/python3.11/dist-packages (from python-dateutil>=2.8.2->pandas<3.0,>=1.0->gradio) (1.17.0)\n",
            "Requirement already satisfied: markdown-it-py>=2.2.0 in /usr/local/lib/python3.11/dist-packages (from rich>=10.11.0->typer<1.0,>=0.12->gradio) (3.0.0)\n",
            "Requirement already satisfied: pygments<3.0.0,>=2.13.0 in /usr/local/lib/python3.11/dist-packages (from rich>=10.11.0->typer<1.0,>=0.12->gradio) (2.18.0)\n",
            "Requirement already satisfied: charset-normalizer<4,>=2 in /usr/local/lib/python3.11/dist-packages (from requests->huggingface-hub>=0.28.1->gradio) (3.4.1)\n",
            "Requirement already satisfied: urllib3<3,>=1.21.1 in /usr/local/lib/python3.11/dist-packages (from requests->huggingface-hub>=0.28.1->gradio) (2.3.0)\n",
            "Requirement already satisfied: mdurl~=0.1 in /usr/local/lib/python3.11/dist-packages (from markdown-it-py>=2.2.0->rich>=10.11.0->typer<1.0,>=0.12->gradio) (0.1.2)\n"
          ]
        }
      ]
    },
    {
      "cell_type": "markdown",
      "source": [
        "Let's define our model configuration parameters that will control the architecture and training process:\n"
      ],
      "metadata": {
        "id": "kJAjeKao6-6L"
      }
    },
    {
      "cell_type": "code",
      "source": [
        "CONFIG = {\n",
        "    \"seed\": 42,              # Random seed for reproducibility across runs (e.g., initializing weights, shuffling data)\n",
        "    \"input_size\": 784,       # Input dimension of the data (28x28 pixels = 784, typically flattened MNIST images)\n",
        "    \"hidden_size\": 256,      # Number of units in the hidden layer(s) of the neural network (e.g., encoder/decoder)\n",
        "    \"latent_size\": 128,      # Size of the latent space (e.g., bottleneck in an autoencoder or VAE)\n",
        "    \"train_batch_size\": 64,  # Number of samples per batch during training (balances speed and gradient stability)\n",
        "    \"test_batch_size\": 64,   # Number of samples per batch during testing (often matches train_batch_size for consistency)\n",
        "    \"n_epochs\": 10,          # Number of full passes through the training dataset\n",
        "    \"learning_rate\": 0.001,  # Step size for gradient descent optimization (controls how fast the model learns)\n",
        "    \"noise_factor\": 0.5      # Factor of noise to add (e.g., for denoising tasks, scales intensity of added noise)\n",
        "}"
      ],
      "metadata": {
        "id": "MFRSXbuj4y5j"
      },
      "execution_count": 19,
      "outputs": []
    },
    {
      "cell_type": "markdown",
      "source": [
        "Let's set a random seed to ensure reproducibility of our results across runs. This controls the initialization of random numbers in Python, NumPy, and PyTorch:\n"
      ],
      "metadata": {
        "id": "dOjfDJV97r2I"
      }
    },
    {
      "cell_type": "code",
      "source": [
        "import random\n",
        "import numpy as np\n",
        "import torch\n",
        "\n",
        "def set_seed(seed):\n",
        "    random.seed(seed)  # Set the seed for Python's built-in random number generator\n",
        "    np.random.seed(seed)  # Set the seed for NumPy's random number generator\n",
        "    torch.manual_seed(seed)  # Set the seed for PyTorch's CPU random number generator\n",
        "    torch.cuda.manual_seed(seed)  # Set the seed for PyTorch's CUDA (GPU) random number generator, if GPU is available\n",
        "    torch.backends.cudnn.deterministic = True  # Force CuDNN (CUDA Deep Neural Network library) to use deterministic algorithms for reproducibility\n",
        "    torch.backends.cudnn.benchmark = False  # Disable CuDNN's benchmarking feature, which optimizes for speed but may introduce randomness\n",
        "\n",
        "seed = CONFIG[\"seed\"]\n",
        "set_seed(seed)"
      ],
      "metadata": {
        "id": "bxh_GfBO7rhK"
      },
      "execution_count": 20,
      "outputs": []
    },
    {
      "cell_type": "markdown",
      "source": [
        "Now we determine whether to use GPU (CUDA) or CPU for training. Using GPU when available significantly accelerates the neural network training process:\n"
      ],
      "metadata": {
        "id": "8DQMDCxG7Isr"
      }
    },
    {
      "cell_type": "code",
      "source": [
        "DEVICE = torch.device(\"cuda\" if torch.cuda.is_available() else \"cpu\")"
      ],
      "metadata": {
        "id": "lBuZUrYz43GX"
      },
      "execution_count": 21,
      "outputs": []
    },
    {
      "cell_type": "markdown",
      "source": [
        "## Prepare Dataset"
      ],
      "metadata": {
        "id": "SDrFHgdNCmWe"
      }
    },
    {
      "cell_type": "markdown",
      "source": [
        "Let's download the MNIST dataset (handwritten digits) and create data loaders that will efficiently feed batches of images to our model during training and testing:\n"
      ],
      "metadata": {
        "id": "Ate_tm-27T0u"
      }
    },
    {
      "cell_type": "code",
      "source": [
        "from torchvision import datasets, transforms\n",
        "from torch.utils.data import DataLoader\n",
        "\n",
        "# Load train dataset and create loader\n",
        "train_batch_size = CONFIG[\"train_batch_size\"]\n",
        "transform = transforms.Compose([transforms.ToTensor()])\n",
        "train_dataset = datasets.MNIST(root='./data', train=True, download=True, transform=transform)\n",
        "train_loader = DataLoader(train_dataset, batch_size=train_batch_size, shuffle=True)\n",
        "\n",
        "# Load test dataset and create loader\n",
        "test_batch_size = CONFIG[\"test_batch_size\"]\n",
        "test_dataset = datasets.MNIST(root='./data', train=False, download=True, transform=transform)\n",
        "test_loader = DataLoader(test_dataset, batch_size=test_batch_size, shuffle=False)"
      ],
      "metadata": {
        "id": "hijF4Sdq4umY"
      },
      "execution_count": 22,
      "outputs": []
    },
    {
      "cell_type": "markdown",
      "source": [
        "Let's display a sample image from the dataset to visualize what our model will be working with (run cell multiple times to see different digit samples):\n"
      ],
      "metadata": {
        "id": "5XenR5bf7XVB"
      }
    },
    {
      "cell_type": "code",
      "source": [
        "import matplotlib.pyplot as plt\n",
        "\n",
        "def render_image_tensor(image):\n",
        "    image *= 255                    # Multiply by 255 to convert pixel values from 0-1 range to 0-255 (standard RGB scale)\n",
        "    image = image.squeeze()         # Remove singleton dimensions (e.g., channel dim) since this is grayscale, not multi-channel\n",
        "    image = image.cpu()             # Move the tensor to CPU memory, as GPU tensors can't be directly converted to NumPy\n",
        "    image = image.detach()          # Detach the tensor from the computation graph to prevent tracking gradients\n",
        "    image = image.numpy()           # Convert the PyTorch tensor to a NumPy array for visualization\n",
        "    image = image.astype(\"uint8\")   # Cast to unsigned 8-bit integer type, required for proper image display\n",
        "    plt.imshow(image, cmap=\"gray\")  # Display the image using matplotlib with a grayscale colormap\n",
        "\n",
        "# Sample first batch from training set\n",
        "first_batch = next(iter(train_loader))[0]\n",
        "\n",
        "# Retrieve first image from batch\n",
        "first_image = first_batch[0]\n",
        "\n",
        "# Store image dimensions for later reference\n",
        "IMAGE_WIDTH = first_image.shape[0]\n",
        "IMAGE_HEIGHT = first_image.shape[1]\n",
        "\n",
        "# Render the image\n",
        "render_image_tensor(first_image)"
      ],
      "metadata": {
        "colab": {
          "base_uri": "https://localhost:8080/",
          "height": 430
        },
        "id": "McV1S-J4ckhd",
        "outputId": "32d216dc-e02a-4eec-d1e8-75d63c7a1167"
      },
      "execution_count": 23,
      "outputs": [
        {
          "output_type": "display_data",
          "data": {
            "text/plain": [
              "<Figure size 640x480 with 1 Axes>"
            ],
            "image/png": "[encoded data removed]"
          },
          "metadata": {}
        }
      ]
    },
    {
      "cell_type": "markdown",
      "source": [
        "Let's create functions to apply controlled random noise to our images and display examples of original vs. noisy image pairs:\n"
      ],
      "metadata": {
        "id": "T8QrcwTfCdHn"
      }
    },
    {
      "cell_type": "code",
      "source": [
        "def sample_noise(tensor, noise_factor=None):\n",
        "    if noise_factor is None: noise_factor = CONFIG[\"noise_factor\"]\n",
        "\n",
        "    # Sample noise with same shape as tensor\n",
        "    noise = torch.randn_like(tensor)\n",
        "\n",
        "    # Scale down noise by the specified factor\n",
        "    scaled_noise = noise * noise_factor\n",
        "\n",
        "    # Return scaled noise\n",
        "    return scaled_noise\n",
        "\n",
        "def add_noise_to_tensors(tensors, noise=None):\n",
        "    # Sample default noise if none was provided\n",
        "    if noise is None: noise = sample_noise(tensors)\n",
        "\n",
        "    # Add noise to tensor\n",
        "    noisy_tensors = tensors + noise\n",
        "\n",
        "    # Clip tensor to ensure all its values remain within range (0-1)\n",
        "    clipped_noisy_tensors = torch.clamp(noisy_tensors, 0., 1.)\n",
        "\n",
        "    # Return clipped noisy tensor\n",
        "    return clipped_noisy_tensors\n",
        "\n",
        "def tensor_to_image_data(tensor):\n",
        "    def process_tensor(t):\n",
        "        # Convert tensor to NumPy array, scale to 0-255, and cast to uint8\n",
        "        return (t.squeeze().cpu().detach().numpy() * 255).astype(np.uint8)\n",
        "\n",
        "    # Check if tensor is a list/tuple of lists/tuples (for multi-row data)\n",
        "    is_list_of_lists = isinstance(tensor, (list, tuple)) and all(isinstance(t, (list, tuple)) for t in tensor)\n",
        "    data_to_process = tensor if is_list_of_lists else [[tensor]]  # Wrap single tensor for consistency\n",
        "\n",
        "    # Process tensors into image data\n",
        "    processed_images = []\n",
        "    for col, pair in enumerate(data_to_process):\n",
        "        col_images = [process_tensor(t) for t in pair]\n",
        "        processed_images.append(col_images)\n",
        "\n",
        "    # Return single image if not list-of-lists, otherwise list of lists\n",
        "    return processed_images[0][0] if not is_list_of_lists else processed_images\n",
        "\n",
        "def show_tensor_images(tensor):\n",
        "    # Convert tensor to image data using the conversion function\n",
        "    image_data = tensor_to_image_data(tensor)\n",
        "\n",
        "    # Determine layout based on input structure\n",
        "    is_list_of_lists = isinstance(image_data, list) and all(isinstance(col, list) for col in image_data)\n",
        "    cols = len(image_data)\n",
        "    rows = len(image_data[0]) if is_list_of_lists else 1\n",
        "\n",
        "    # Create plot\n",
        "    fig, axes = plt.subplots(rows, cols, figsize=(cols * 3, rows * 3), squeeze=False)\n",
        "    for col, col_images in enumerate(image_data):\n",
        "        if not is_list_of_lists:\n",
        "            col_images = [col_images]  # Wrap single image in list for iteration\n",
        "        for row, img in enumerate(col_images[:rows]):\n",
        "            axes[row, col].imshow(img, cmap=\"gray\")\n",
        "            axes[row, col].axis('off')\n",
        "    plt.tight_layout()\n",
        "    plt.show()\n",
        "\n",
        "images = next(iter(train_loader))[0][:5]\n",
        "noisy_images = add_noise_to_tensors(images)\n",
        "show_tensor_images(list(zip(images, noisy_images)))"
      ],
      "metadata": {
        "colab": {
          "base_uri": "https://localhost:8080/",
          "height": 606
        },
        "id": "rdrNGB9GiIsz",
        "outputId": "717bd81d-4465-431b-d264-e6c453d1c898"
      },
      "execution_count": 24,
      "outputs": [
        {
          "output_type": "display_data",
          "data": {
            "text/plain": [
              "<Figure size 1500x600 with 10 Axes>"
            ],
            "image/png": "[encoded data removed]"
          },
          "metadata": {}
        }
      ]
    },
    {
      "cell_type": "markdown",
      "source": [
        "## Build Model"
      ],
      "metadata": {
        "id": "5wW_cv3VCqvZ"
      }
    },
    {
      "cell_type": "markdown",
      "source": [
        "Now we'll build our autoencoder model with encoder and decoder components. The encoder compresses the input to a lower-dimensional latent space, while the decoder reconstructs the original image from this compressed representation:\n"
      ],
      "metadata": {
        "id": "l8kW_M2P7ne4"
      }
    },
    {
      "cell_type": "code",
      "source": [
        "import torch.nn as nn\n",
        "\n",
        "class DenoisingAutoencoder(nn.Module):\n",
        "    def __init__(\n",
        "        self,\n",
        "        input_size,\n",
        "        hidden_size,\n",
        "        latent_size\n",
        "    ):\n",
        "        super(DenoisingAutoencoder, self).__init__()\n",
        "\n",
        "        # Encoder (progressively squeezes input\n",
        "        # to lower dimensional representation)\n",
        "        self.encoder = nn.Sequential(\n",
        "            nn.Linear(input_size, hidden_size),\n",
        "            nn.ReLU(),\n",
        "            nn.Linear(hidden_size, latent_size),\n",
        "            nn.ReLU()\n",
        "        )\n",
        "\n",
        "        # Decoder (progressively increases dimensionality\n",
        "        # from latent space presentation to output dimensionality)\n",
        "        self.decoder = nn.Sequential(\n",
        "            nn.Linear(latent_size, hidden_size),\n",
        "            nn.ReLU(),\n",
        "            nn.Linear(hidden_size, input_size),\n",
        "            nn.Sigmoid()\n",
        "        )\n",
        "\n",
        "    def forward(self, x):\n",
        "        encoded = self.encoder(x)\n",
        "        decoded = self.decoder(encoded)\n",
        "        return decoded\n",
        "\n",
        "def build_model(\n",
        "    input_size=None,\n",
        "    hidden_size=None,\n",
        "    latent_size=None\n",
        "):\n",
        "    if input_size is None: input_size = CONFIG[\"input_size\"]\n",
        "    if hidden_size is None: hidden_size = CONFIG[\"hidden_size\"]\n",
        "    if latent_size is None: latent_size = CONFIG[\"latent_size\"]\n",
        "\n",
        "    model = DenoisingAutoencoder(input_size, hidden_size, latent_size)\n",
        "    return model\n",
        "\n",
        "# Build model and send it to device\n",
        "model = build_model()\n",
        "model = model.to(DEVICE)"
      ],
      "metadata": {
        "id": "UIbNUUob7p-m"
      },
      "execution_count": 25,
      "outputs": []
    },
    {
      "cell_type": "markdown",
      "source": [],
      "metadata": {
        "id": "CjK_SvTrxFc1"
      }
    },
    {
      "cell_type": "markdown",
      "source": [
        "Our model works with flattened 1D tensors (784 pixels), while MNIST images are 2D (28\u00d728). Let's create utility functions to convert between these formats:\n"
      ],
      "metadata": {
        "id": "6K51WbWtCxDV"
      }
    },
    {
      "cell_type": "code",
      "source": [
        "def flatten_images(images):\n",
        "  return images.view(images.size(0), -1)\n",
        "\n",
        "def unflatten_images(flattened_images):\n",
        "  return flattened_images.view(flattened_images.size(0), 1, 28, 28)\n",
        "\n",
        "images = next(iter(train_loader))[0][:5]\n",
        "images = unflatten_images(flatten_images(images))\n",
        "show_tensor_images(images)"
      ],
      "metadata": {
        "colab": {
          "base_uri": "https://localhost:8080/",
          "height": 307
        },
        "id": "9kXRp5W6xF29",
        "outputId": "f665789b-9cfd-435f-f2cc-b5c22540a332"
      },
      "execution_count": 26,
      "outputs": [
        {
          "output_type": "display_data",
          "data": {
            "text/plain": [
              "<Figure size 1500x300 with 5 Axes>"
            ],
            "image/png": "[encoded data removed]"
          },
          "metadata": {}
        }
      ]
    },
    {
      "cell_type": "markdown",
      "source": [
        "To monitor our model's performance and ensure it generalizes well beyond the training data, let's create an evaluation function that measures the denoising accuracy on our test dataset:\n"
      ],
      "metadata": {
        "id": "-UxRc_z_sZiA"
      }
    },
    {
      "cell_type": "code",
      "source": [
        "def evaluate(model, data_loader):\n",
        "    # Set model in evaluation mode\n",
        "    model.eval()\n",
        "\n",
        "    # Create the loss (mean squared error)\n",
        "    criterion = nn.MSELoss()\n",
        "\n",
        "    # Calculate mean loss across dataset\n",
        "    # served by provided loader\n",
        "    losses = []\n",
        "    with torch.no_grad():\n",
        "        for data in data_loader:\n",
        "            # Load image batch and send it to device\n",
        "            images, _ = data\n",
        "            images = images.to(DEVICE)\n",
        "\n",
        "            # Flatten images so that they match model input/output shapes\n",
        "            flattened_images = flatten_images(images)\n",
        "\n",
        "            # Add noise to images\n",
        "            flattened_noisy_images = add_noise_to_tensors(flattened_images)\n",
        "\n",
        "            # Forward pass\n",
        "            output = model(flattened_noisy_images)\n",
        "\n",
        "            # Calculate and collect loss\n",
        "            loss = criterion(output, flattened_images)\n",
        "            losses.append(loss.item())\n",
        "\n",
        "    # Return mean loss\n",
        "    mean_loss = torch.tensor(losses).mean()\n",
        "    return mean_loss\n",
        "\n",
        "evaluate(model, test_loader)"
      ],
      "metadata": {
        "colab": {
          "base_uri": "https://localhost:8080/"
        },
        "id": "br4KvHAfqPYr",
        "outputId": "b4f6eaee-91dc-4186-bf99-21c2fce82e97"
      },
      "execution_count": 27,
      "outputs": [
        {
          "output_type": "execute_result",
          "data": {
            "text/plain": [
              "tensor(0.2312)"
            ]
          },
          "metadata": {},
          "execution_count": 27
        }
      ]
    },
    {
      "cell_type": "markdown",
      "source": [
        "Let's implement and execute the training loop, where the model will learn to map noisy images to their clean versions through multiple epochs of optimization:\n"
      ],
      "metadata": {
        "id": "d9kn_sVasXJN"
      }
    },
    {
      "cell_type": "code",
      "execution_count": 28,
      "metadata": {
        "colab": {
          "base_uri": "https://localhost:8080/"
        },
        "id": "4lSe8h-O36iE",
        "outputId": "25af5f31-d1dd-4418-e46e-3a00a7df5b8a"
      },
      "outputs": [
        {
          "output_type": "stream",
          "name": "stdout",
          "text": [
            "Epoch [1/10], train_loss: 0.0424, validation_loss: 0.0272\n",
            "Epoch [2/10], train_loss: 0.0243, validation_loss: 0.0214\n",
            "Epoch [3/10], train_loss: 0.0204, validation_loss: 0.0189\n",
            "Epoch [4/10], train_loss: 0.0185, validation_loss: 0.0174\n",
            "Epoch [5/10], train_loss: 0.0173, validation_loss: 0.0166\n",
            "Epoch [6/10], train_loss: 0.0165, validation_loss: 0.0159\n",
            "Epoch [7/10], train_loss: 0.0159, validation_loss: 0.0156\n",
            "Epoch [8/10], train_loss: 0.0155, validation_loss: 0.0149\n",
            "Epoch [9/10], train_loss: 0.0151, validation_loss: 0.0146\n",
            "Epoch [10/10], train_loss: 0.0149, validation_loss: 0.0145\n"
          ]
        }
      ],
      "source": [
        "import torch\n",
        "import torch.nn as nn\n",
        "import torch.optim as optim\n",
        "from torchvision import datasets, transforms\n",
        "\n",
        "def train(\n",
        "    model,\n",
        "    train_loader,\n",
        "    test_loader,\n",
        "    n_epochs=None,\n",
        "    learning_rate=None,\n",
        "    noise_factor=None\n",
        "):\n",
        "    if n_epochs is None: n_epochs = CONFIG[\"n_epochs\"]\n",
        "    if learning_rate is None: learning_rate = CONFIG[\"learning_rate\"]\n",
        "\n",
        "    # Create the optimizer\n",
        "    optimizer = optim.Adam(model.parameters(), lr=learning_rate)\n",
        "\n",
        "    # Create the loss (mean squared error)\n",
        "    criterion = nn.MSELoss()\n",
        "\n",
        "    # Train for N epochs\n",
        "    for epoch in range(n_epochs):\n",
        "        # Set model in training mode\n",
        "        model.train()\n",
        "\n",
        "        # Train\n",
        "        train_losses = []\n",
        "        for data in train_loader:\n",
        "            # Load image batch and send it to device\n",
        "            images, _ = data\n",
        "            images = images.to(DEVICE)\n",
        "\n",
        "            # Flatten images so that they match model input/output shapes\n",
        "            flattened_images = flatten_images(images)\n",
        "\n",
        "            # Add noise to images\n",
        "            flattened_noisy_images = add_noise_to_tensors(flattened_images)\n",
        "\n",
        "            # Forward pass\n",
        "            output = model(flattened_noisy_images)\n",
        "\n",
        "            # Calculate loss\n",
        "            train_loss = criterion(output, flattened_images)\n",
        "            train_losses.append(train_loss.item())\n",
        "\n",
        "            # Zero out gradients (otherwise they would\n",
        "            # accumulated between backward passes)\n",
        "            optimizer.zero_grad()\n",
        "\n",
        "            # Backpropagate training loss\n",
        "            train_loss.backward()\n",
        "\n",
        "            # Perform optimization step\n",
        "            optimizer.step()\n",
        "\n",
        "        # Calculate mean train loss\n",
        "        train_loss = torch.tensor(train_losses).mean()\n",
        "\n",
        "        # Evaluate the model using test dataset\n",
        "        validation_loss = evaluate(model, test_loader)\n",
        "\n",
        "        print(f'Epoch [{epoch+1}/{n_epochs}], train_loss: {train_loss:.4f}, validation_loss: {validation_loss:.4f}')\n",
        "\n",
        "train(model, train_loader, test_loader)"
      ]
    },
    {
      "cell_type": "markdown",
      "source": [
        "Let's evaluate our trained model visually by comparing noisy inputs against their denoised outputs on test samples:\n"
      ],
      "metadata": {
        "id": "knCPH4i7DLfJ"
      }
    },
    {
      "cell_type": "code",
      "source": [
        "# Load N images from test dataset\n",
        "images = next(iter(test_loader))[0][:5].to(DEVICE)\n",
        "\n",
        "# Flatten input images\n",
        "flattened_images = flatten_images(images)\n",
        "\n",
        "# Add noise to images\n",
        "flattened_noisy_images = add_noise_to_tensors(flattened_images)\n",
        "\n",
        "# Run noisy images through model\n",
        "flattened_denoised_images = model(flattened_noisy_images)\n",
        "\n",
        "# Unflatten noisy and denoised images\n",
        "noisy_images = unflatten_images(flattened_noisy_images)\n",
        "denoised_images = unflatten_images(flattened_denoised_images)\n",
        "\n",
        "# Show noisy (input) and denoised (output) images side by side\n",
        "show_tensor_images(list(zip(noisy_images, denoised_images)))"
      ],
      "metadata": {
        "colab": {
          "base_uri": "https://localhost:8080/",
          "height": 606
        },
        "id": "bpiktfP9sCKN",
        "outputId": "fdad9178-7f5d-481b-e697-0dc5e0cc0504"
      },
      "execution_count": 29,
      "outputs": [
        {
          "output_type": "display_data",
          "data": {
            "text/plain": [
              "<Figure size 1500x600 with 10 Axes>"
            ],
            "image/png": "[encoded data removed]"
          },
          "metadata": {}
        }
      ]
    },
    {
      "cell_type": "markdown",
      "source": [
        "The model has learned to denoise by compressing images into a latent space that is low dimensional enough to get rid of unessential things such as noise, and then to reconstruct back the original number from those compressed vectors."
      ],
      "metadata": {
        "id": "7fqBxsXM4KQb"
      }
    },
    {
      "cell_type": "markdown",
      "source": [
        "Let's run some random noise through the decoder to observe its outputs and gain insight into the latent space's properties. In a standard denoising autoencoder, the decoder is trained to reconstruct MNIST digits from their encoded representations, not to generate new digits from arbitrary inputs. If the latent space lacked any structure, we might expect the output to resemble random noise. Conversely, if it were perfectly structured for generation (as in a Variational Autoencoder), random noise could produce clear, digit-like images with properties matching the original dataset. Let's test this to see what happens:"
      ],
      "metadata": {
        "id": "tV32YvfwDd8E"
      }
    },
    {
      "cell_type": "code",
      "source": [
        "from tsilva_notebook_utils import render_video\n",
        "\n",
        "def sample_latent_video(\n",
        "    model,\n",
        "    n_frames=100, # Number of frames to sample\n",
        "    scale=4, # Scale of the video (MNIST digits are small, scale them up for easier visualization)\n",
        "    fps=5, # How many frames to render per second\n",
        "    latent_size=None\n",
        "):\n",
        "    latent_size = CONFIG[\"latent_size\"] if latent_size is None else latent_size\n",
        "\n",
        "    # Set the model in evaluation mode\n",
        "    model.eval()\n",
        "\n",
        "    # Send a batch of N samples of noise through the decoder to get a\n",
        "    # reconstructed batch that hopefuly resembles a batch of mnist digits\n",
        "    with torch.no_grad(): output = model.decoder(torch.randn(n_frames, latent_size).to(DEVICE))\n",
        "\n",
        "    # Reshape batch from flattened to image shapes (width/height)\n",
        "    images = unflatten_images(output)\n",
        "\n",
        "    # Convert output into a list of frames ready\n",
        "    # to be rendered (eg: rgb values, numpy format, etc)\n",
        "    frames = tensor_to_image_data(images)\n",
        "\n",
        "    # Render video and return html with video tag and base 64 video\n",
        "    video_html = render_video(frames, scale=scale, fps=fps)\n",
        "    return video_html\n",
        "\n",
        "sample_latent_video(model)"
      ],
      "metadata": {
        "colab": {
          "base_uri": "https://localhost:8080/",
          "height": 149
        },
        "id": "cEQQT5uM1ulk",
        "outputId": "dff87b36-4a77-4a76-b3e4-1b4475287ff3"
      },
      "execution_count": 30,
      "outputs": [
        {
          "output_type": "execute_result",
          "data": {
            "text/plain": [
              "<IPython.core.display.HTML object>"
            ],
            "text/html": [
              "\n",
              "        <video width=\"128\" height=\"128\" controls autoplay loop muted>\n",
              "            <source src=\"data:video/mp4;base64,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\" type=\"video/mp4\">\n",
              "            Your browser does not support the video tag.\n",
              "        </video>\n",
              "    "
            ]
          },
          "metadata": {},
          "execution_count": 30
        }
      ]
    },
    {
      "cell_type": "markdown",
      "source": [
        "Sending random noise through the decoder doesn't consistently produce recognizable MNIST digits, but the outputs often exhibit features reminiscent of characters, such as faint outlines or digit-like shapes. This suggests that the decoder has learned patterns from the MNIST training data, which influence its reconstructions even for untrained inputs. However, this doesn't indicate a fully structured latent space designed for generation; rather, it reflects the model's tendency to approximate digit-like forms based on its training, though not with the precision or consistency of a generative model."
      ],
      "metadata": {
        "id": "TVSeSUDgFFDr"
      }
    },
    {
      "cell_type": "markdown",
      "source": [
        "Let's try interpolating between two actual digits and travel the latent space from one digit's representation to another:"
      ],
      "metadata": {
        "id": "FgEovTPPFSlu"
      }
    },
    {
      "cell_type": "code",
      "source": [
        "from tsilva_notebook_utils import render_video\n",
        "import torch\n",
        "import numpy as np\n",
        "import random\n",
        "\n",
        "def render_digits_interpolation(\n",
        "    model,\n",
        "    data_loader,\n",
        "    digit1,\n",
        "    digit2,\n",
        "    steps=30,\n",
        "    fps=20\n",
        "):\n",
        "    # Set model in eval mode\n",
        "    model.eval()\n",
        "\n",
        "    # Iterate through data loader until we find both digits\n",
        "    img1, img2 = None, None\n",
        "    for images, labels in data_loader:\n",
        "        images = images.to(DEVICE)\n",
        "\n",
        "        # Find indices for target digits in current batch\n",
        "        digit1_indices = (labels == digit1).nonzero(as_tuple=True)[0]\n",
        "        digit2_indices = (labels == digit2).nonzero(as_tuple=True)[0]\n",
        "\n",
        "        # If we found target_digit1 and haven't selected img1 yet\n",
        "        if len(digit1_indices) > 0 and img1 is None:\n",
        "            digit1_idx = random.choice(digit1_indices.tolist())\n",
        "            img1 = images[digit1_idx:digit1_idx+1]\n",
        "\n",
        "        # If we found target_digit2 and haven't selected img2 yet\n",
        "        if len(digit2_indices) > 0 and img2 is None:\n",
        "            digit2_idx = random.choice(digit2_indices.tolist())\n",
        "            img2 = images[digit2_idx:digit2_idx+1]\n",
        "\n",
        "        # If we have both images, we can break\n",
        "        if img1 is not None and img2 is not None: break\n",
        "\n",
        "    # Disable gradient tracking during inference\n",
        "    with torch.no_grad():\n",
        "        # Encode both images to latent space\n",
        "        img1 = flatten_images(img1)\n",
        "        img2 = flatten_images(img2)\n",
        "        latent1 = model.encoder(img1)\n",
        "        latent2 = model.encoder(img2)\n",
        "\n",
        "        # Create interpolated frames by creating an interpolated\n",
        "        # latent for each frame and decoding it back to image space\n",
        "        frames = []\n",
        "        for alpha in np.linspace(0, 1, steps):\n",
        "            # Mix percentage of first latent with percentage of second latent\n",
        "            interpolated_latent = (1 - alpha) * latent1 + alpha * latent2\n",
        "\n",
        "            # Decode back to image space\n",
        "            interpolated_img = model.decoder(interpolated_latent)\n",
        "            interpolated_img = unflatten_images(interpolated_img)\n",
        "\n",
        "            # Convert to numpy array with proper scaling and type\n",
        "            frame = tensor_to_image_data(interpolated_img)\n",
        "            frames.append(frame)\n",
        "\n",
        "    # Render video\n",
        "    return render_video(frames, scale=4, fps=fps)\n",
        "\n",
        "# Render video interpolating from 1 to 9\n",
        "render_digits_interpolation(model, test_loader, 1, 9)"
      ],
      "metadata": {
        "colab": {
          "base_uri": "https://localhost:8080/",
          "height": 149
        },
        "id": "8EEmpRhD7REY",
        "outputId": "27cbc5ce-af5b-4ea5-a100-1ec495fd6b29"
      },
      "execution_count": 31,
      "outputs": [
        {
          "output_type": "execute_result",
          "data": {
            "text/plain": [
              "<IPython.core.display.HTML object>"
            ],
            "text/html": [
              "\n",
              "        <video width=\"128\" height=\"128\" controls autoplay loop muted>\n",
              "            <source src=\"data:video/mp4;base64,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\" type=\"video/mp4\">\n",
              "            Your browser does not support the video tag.\n",
              "        </video>\n",
              "    "
            ]
          },
          "metadata": {},
          "execution_count": 31
        }
      ]
    },
    {
      "cell_type": "markdown",
      "source": [
        "Not too bad. The denoising autoencoder maps MNIST digits into a latent space where their structural features\u2014like strokes and shapes\u2014are preserved, allowing linear interpolation between two digits (even from different classes, like '1' and '9') to produce meaningful, digit-like frames. This works well here because MNIST digits share a simple, consistent format (grayscale, centered, 28x28). In more complex datasets, such as real-life images with diverse backgrounds and variations, a standard autoencoder might struggle to decode smooth or recognizable transitions during interpolation, though advanced models like VAEs could still achieve meaningful results with proper training."
      ],
      "metadata": {
        "id": "JqWRfXeHFdMf"
      }
    },
    {
      "cell_type": "markdown",
      "source": [
        "Finally, let's create an interactive Gradio interface that allows you to experiment with interpolating between different digits in the latent space:\n"
      ],
      "metadata": {
        "id": "yhWxfcKmR-W7"
      }
    },
    {
      "cell_type": "code",
      "source": [
        "import gradio as gr\n",
        "\n",
        "def build_gradio_ui(model, test_loader):\n",
        "    def _render_digits_interpolation(source_digit, target_digit, steps, fps):\n",
        "        return render_digits_interpolation(model, test_loader, source_digit, target_digit, steps, fps).data\n",
        "\n",
        "    with gr.Blocks() as demo:\n",
        "        with gr.Row():\n",
        "            digit1 = gr.Dropdown(\n",
        "                choices=[0, 1, 2, 3, 4, 5, 6, 7, 8, 9],\n",
        "                label=\"Source Digit\",\n",
        "                value=1\n",
        "            )\n",
        "            digit2 = gr.Dropdown(\n",
        "                choices=[0, 1, 2, 3, 4, 5, 6, 7, 8, 9],\n",
        "                label=\"Target Digit\",\n",
        "                value=9\n",
        "            )\n",
        "\n",
        "        with gr.Row():\n",
        "            steps = gr.Slider(\n",
        "                minimum=10,\n",
        "                maximum=100,\n",
        "                step=1,\n",
        "                value=30,\n",
        "                label=\"Number of Steps\"\n",
        "            )\n",
        "            fps = gr.Slider(\n",
        "                minimum=5,\n",
        "                maximum=60,\n",
        "                step=1,\n",
        "                value=20,\n",
        "                label=\"Frames Per Second\"\n",
        "            )\n",
        "\n",
        "        generate_btn = gr.Button(\"Generate Interpolation\")\n",
        "        output = gr.HTML(label=\"Interpolation Result\")\n",
        "\n",
        "        generate_btn.click(\n",
        "            fn=_render_digits_interpolation,\n",
        "            inputs=[digit1, digit2, steps, fps],\n",
        "            outputs=output\n",
        "        )\n",
        "\n",
        "    return demo\n",
        "\n",
        "interface = build_gradio_ui(model, test_loader)\n",
        "interface.launch()"
      ],
      "metadata": {
        "colab": {
          "base_uri": "https://localhost:8080/",
          "height": 625
        },
        "id": "L01ODC04zj67",
        "outputId": "8f135bda-776a-4b5c-ca8f-ec5489df94ec"
      },
      "execution_count": 32,
      "outputs": [
        {
          "output_type": "stream",
          "name": "stdout",
          "text": [
            "Running Gradio in a Colab notebook requires sharing enabled. Automatically setting `share=True` (you can turn this off by setting `share=False` in `launch()` explicitly).\n",
            "\n",
            "Colab notebook detected. To show errors in colab notebook, set debug=True in launch()\n",
            "* Running on public URL: https://cf9b38f2652e0c4ae4.gradio.live\n",
            "\n",
            "This share link expires in 72 hours. For free permanent hosting and GPU upgrades, run `gradio deploy` from the terminal in the working directory to deploy to Hugging Face Spaces (https://huggingface.co/spaces)\n"
          ]
        },
        {
          "output_type": "display_data",
          "data": {
            "text/plain": [
              "<IPython.core.display.HTML object>"
            ],
            "text/html": [
              "<div><iframe src=\"https://cf9b38f2652e0c4ae4.gradio.live\" width=\"100%\" height=\"500\" allow=\"autoplay; camera; microphone; clipboard-read; clipboard-write;\" frameborder=\"0\" allowfullscreen></iframe></div>"
            ]
          },
          "metadata": {}
        },
        {
          "output_type": "execute_result",
          "data": {
            "text/plain": []
          },
          "metadata": {},
          "execution_count": 32
        }
      ]
    }
  ]
}