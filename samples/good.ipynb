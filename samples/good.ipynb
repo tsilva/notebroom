{
  "cells": [
    {
      "cell_type": "markdown",
      "metadata": {
        "id": "view-in-github",
        "colab_type": "text"
      },
      "source": [
        "<a href=\"https://colab.research.google.com/github/tsilva/aiml-notebooks/blob/main/gymnasium/wip-solving-cartpole_v1-with-reinforce.ipynb\" target=\"_parent\"><img src=\"https://colab.research.google.com/assets/colab-badge.svg\" alt=\"Open In Colab\"/></a>"
      ]
    },
    {
      "cell_type": "markdown",
      "metadata": {
        "id": "xdawIomZPpJh"
      },
      "source": [
        "# Solving CartPole-v1 with REINFORCE \ud83e\udd16\ud83c\udfae"
      ]
    },
    {
      "cell_type": "markdown",
      "metadata": {
        "id": "DHwllDiHgnIg"
      },
      "source": [
        "In this notebook, we'll solve [Gymnasium CartPole-v1](https://gymnasium.farama.org/environments/classic_control/cart_pole/) using **Deep Reinforcement Learning** with **REINFORCE** (aka Vanilla Policy Gradient) \ud83c\udfae. **REINFORCE** is:\n",
        "- **Policy-based:** Directly learns a policy, unlike value-based methods (e.g., **DQN**) \ud83d\udcca.\n",
        "- **On-policy:** The learned policy interacts with the environment \ud83c\udf0d.\n",
        "- **Model-free:** No knowledge of environment dynamics is required \u274c.\n",
        "- **Monte Carlo:** Updates the policy at the end of an episode, unlike **Temporal Difference (TD)** methods \u23f3.\n",
        "\n",
        "*__Prerequisite:__ Basic knowledge of Neural Networks and PyTorch \ud83e\udde0. For a deep dive, explore these [notebooks](https://github.com/tsilva/aiml-notebooks/tree/main/karpathy-zero-to-hero) \ud83d\udcda.*"
      ]
    },
    {
      "cell_type": "markdown",
      "metadata": {
        "id": "LSS4GAQoUsC2"
      },
      "source": [
        "## Introduction"
      ]
    },
    {
      "cell_type": "markdown",
      "metadata": {
        "id": "ECOaNFlBUtZ7"
      },
      "source": [
        "In this notebook, we\u2019ll use **Gymnasium** \ud83c\udfcb\ufe0f\u200d\u2642\ufe0f, a Python library for building reinforcement learning loops. [Gymnasium](https://gymnasium.farama.org/) provides an API to interact with an **environment** \ud83c\udf0d\u2014a simulated world where an **agent** \ud83e\udd16 operates. The agent\u2019s goal is to explore, learn from rewards, and develop a policy that maximizes total reward. To do so, the agent follows a cycle:\n",
        "- Takes an **action** \u26a1\n",
        "- Receives an **observation** \ud83d\udc40(info about the environment\u2019s current **state** \ud83c\udfde\ufe0f)\n",
        "- Earns a **reward** \ud83c\udf89 (feedback on its action)\n",
        "- This repeats over an **episode** \u23f3 until the environment ends.\n"
      ]
    },
    {
      "cell_type": "markdown",
      "metadata": {
        "id": "H4P6V6tZsQ0C"
      },
      "source": [
        "Here are key terms you'll need to know while going through this notebook:\n",
        "\n",
        "- **Environment** \ud83c\udf0d: The world the agent interacts with (e.g., CartPole).  \n",
        "- **Agent** \ud83e\udd16: The decision-maker that interacts with the environment.  \n",
        "- **Policy** \ud83d\udcdc: The agent\u2019s strategy for selecting actions based on one or more past observations.  \n",
        "- **Observation** \ud83d\udc40: The current state of the environment (e.g., in CartPole-v1, this includes cart position, velocity, pole angle, and angular velocity).  \n",
        "- **Action** \u26a1: A decision made by the agent that affects the environment.  \n",
        "- **Step** \ud83d\udd04: A single action taken in the environment, resulting in a reward and a new observation.  \n",
        "- **Reward** \ud83c\udf89: A numerical value indicating the quality of an action\u2014the higher, the better.  \n",
        "- **Episode** \u23f3: A full interaction with the environment from start to finish (e.g., until the pole falls).  \n",
        "\n",
        "For more details refer to the [Gymnasium Basic Usage](https://gymnasium.farama.org/introduction/basic_usage/) guide."
      ]
    },
    {
      "cell_type": "markdown",
      "metadata": {
        "id": "aeMgiCwhP2ea"
      },
      "source": [
        "## Setup \ud83d\udee0\ufe0f"
      ]
    },
    {
      "cell_type": "markdown",
      "metadata": {
        "id": "4DpdD725ZPfd"
      },
      "source": [
        "Let's get started and install the necessary packages: \ud83d\udee0\ufe0f"
      ]
    },
    {
      "cell_type": "code",
      "execution_count": 1,
      "metadata": {
        "colab": {
          "base_uri": "https://localhost:8080/"
        },
        "id": "07iSf3rBJcok",
        "outputId": "411ba6a4-7ff3-4193-840e-22c887dc8aaf"
      },
      "outputs": [
        {
          "output_type": "stream",
          "name": "stdout",
          "text": [
            "Requirement already satisfied: swig in /usr/local/lib/python3.11/dist-packages (4.3.0)\n",
            "Requirement already satisfied: gymnasium[box2d] in /usr/local/lib/python3.11/dist-packages (1.0.0)\n",
            "Requirement already satisfied: numpy>=1.21.0 in /usr/local/lib/python3.11/dist-packages (from gymnasium[box2d]) (1.26.4)\n",
            "Requirement already satisfied: cloudpickle>=1.2.0 in /usr/local/lib/python3.11/dist-packages (from gymnasium[box2d]) (3.1.1)\n",
            "Requirement already satisfied: typing-extensions>=4.3.0 in /usr/local/lib/python3.11/dist-packages (from gymnasium[box2d]) (4.12.2)\n",
            "Requirement already satisfied: farama-notifications>=0.0.1 in /usr/local/lib/python3.11/dist-packages (from gymnasium[box2d]) (0.0.4)\n",
            "Requirement already satisfied: box2d-py==2.3.5 in /usr/local/lib/python3.11/dist-packages (from gymnasium[box2d]) (2.3.5)\n",
            "Requirement already satisfied: pygame>=2.1.3 in /usr/local/lib/python3.11/dist-packages (from gymnasium[box2d]) (2.6.1)\n",
            "Requirement already satisfied: swig==4.* in /usr/local/lib/python3.11/dist-packages (from gymnasium[box2d]) (4.3.0)\n",
            "Requirement already satisfied: wandb in /usr/local/lib/python3.11/dist-packages (0.19.7)\n",
            "Requirement already satisfied: click!=8.0.0,>=7.1 in /usr/local/lib/python3.11/dist-packages (from wandb) (8.1.8)\n",
            "Requirement already satisfied: docker-pycreds>=0.4.0 in /usr/local/lib/python3.11/dist-packages (from wandb) (0.4.0)\n",
            "Requirement already satisfied: gitpython!=3.1.29,>=1.0.0 in /usr/local/lib/python3.11/dist-packages (from wandb) (3.1.44)\n",
            "Requirement already satisfied: platformdirs in /usr/local/lib/python3.11/dist-packages (from wandb) (4.3.6)\n",
            "Requirement already satisfied: protobuf!=4.21.0,!=5.28.0,<6,>=3.19.0 in /usr/local/lib/python3.11/dist-packages (from wandb) (4.25.6)\n",
            "Requirement already satisfied: psutil>=5.0.0 in /usr/local/lib/python3.11/dist-packages (from wandb) (5.9.5)\n",
            "Requirement already satisfied: pydantic<3,>=2.6 in /usr/local/lib/python3.11/dist-packages (from wandb) (2.10.6)\n",
            "Requirement already satisfied: pyyaml in /usr/local/lib/python3.11/dist-packages (from wandb) (6.0.2)\n",
            "Requirement already satisfied: requests<3,>=2.0.0 in /usr/local/lib/python3.11/dist-packages (from wandb) (2.32.3)\n",
            "Requirement already satisfied: sentry-sdk>=2.0.0 in /usr/local/lib/python3.11/dist-packages (from wandb) (2.22.0)\n",
            "Requirement already satisfied: setproctitle in /usr/local/lib/python3.11/dist-packages (from wandb) (1.3.4)\n",
            "Requirement already satisfied: setuptools in /usr/local/lib/python3.11/dist-packages (from wandb) (75.1.0)\n",
            "Requirement already satisfied: typing-extensions<5,>=4.4 in /usr/local/lib/python3.11/dist-packages (from wandb) (4.12.2)\n",
            "Requirement already satisfied: six>=1.4.0 in /usr/local/lib/python3.11/dist-packages (from docker-pycreds>=0.4.0->wandb) (1.17.0)\n",
            "Requirement already satisfied: gitdb<5,>=4.0.1 in /usr/local/lib/python3.11/dist-packages (from gitpython!=3.1.29,>=1.0.0->wandb) (4.0.12)\n",
            "Requirement already satisfied: annotated-types>=0.6.0 in /usr/local/lib/python3.11/dist-packages (from pydantic<3,>=2.6->wandb) (0.7.0)\n",
            "Requirement already satisfied: pydantic-core==2.27.2 in /usr/local/lib/python3.11/dist-packages (from pydantic<3,>=2.6->wandb) (2.27.2)\n",
            "Requirement already satisfied: charset-normalizer<4,>=2 in /usr/local/lib/python3.11/dist-packages (from requests<3,>=2.0.0->wandb) (3.4.1)\n",
            "Requirement already satisfied: idna<4,>=2.5 in /usr/local/lib/python3.11/dist-packages (from requests<3,>=2.0.0->wandb) (3.10)\n",
            "Requirement already satisfied: urllib3<3,>=1.21.1 in /usr/local/lib/python3.11/dist-packages (from requests<3,>=2.0.0->wandb) (2.3.0)\n",
            "Requirement already satisfied: certifi>=2017.4.17 in /usr/local/lib/python3.11/dist-packages (from requests<3,>=2.0.0->wandb) (2025.1.31)\n",
            "Requirement already satisfied: smmap<6,>=3.0.1 in /usr/local/lib/python3.11/dist-packages (from gitdb<5,>=4.0.1->gitpython!=3.1.29,>=1.0.0->wandb) (5.0.2)\n",
            "Requirement already satisfied: tsilva-notebook-utils in /usr/local/lib/python3.11/dist-packages (0.1.6)\n",
            "Requirement already satisfied: ipython>=7.0.0 in /usr/local/lib/python3.11/dist-packages (from tsilva-notebook-utils) (7.34.0)\n",
            "Requirement already satisfied: opencv-python>=4.0.0 in /usr/local/lib/python3.11/dist-packages (from tsilva-notebook-utils) (4.11.0.86)\n",
            "Requirement already satisfied: imageio>=2.0.0 in /usr/local/lib/python3.11/dist-packages (from tsilva-notebook-utils) (2.37.0)\n",
            "Requirement already satisfied: numpy>=1.19.0 in /usr/local/lib/python3.11/dist-packages (from tsilva-notebook-utils) (1.26.4)\n",
            "Requirement already satisfied: pillow>=8.3.2 in /usr/local/lib/python3.11/dist-packages (from imageio>=2.0.0->tsilva-notebook-utils) (11.1.0)\n",
            "Requirement already satisfied: setuptools>=18.5 in /usr/local/lib/python3.11/dist-packages (from ipython>=7.0.0->tsilva-notebook-utils) (75.1.0)\n",
            "Requirement already satisfied: jedi>=0.16 in /usr/local/lib/python3.11/dist-packages (from ipython>=7.0.0->tsilva-notebook-utils) (0.19.2)\n",
            "Requirement already satisfied: decorator in /usr/local/lib/python3.11/dist-packages (from ipython>=7.0.0->tsilva-notebook-utils) (4.4.2)\n",
            "Requirement already satisfied: pickleshare in /usr/local/lib/python3.11/dist-packages (from ipython>=7.0.0->tsilva-notebook-utils) (0.7.5)\n",
            "Requirement already satisfied: traitlets>=4.2 in /usr/local/lib/python3.11/dist-packages (from ipython>=7.0.0->tsilva-notebook-utils) (5.7.1)\n",
            "Requirement already satisfied: prompt-toolkit!=3.0.0,!=3.0.1,<3.1.0,>=2.0.0 in /usr/local/lib/python3.11/dist-packages (from ipython>=7.0.0->tsilva-notebook-utils) (3.0.50)\n",
            "Requirement already satisfied: pygments in /usr/local/lib/python3.11/dist-packages (from ipython>=7.0.0->tsilva-notebook-utils) (2.18.0)\n",
            "Requirement already satisfied: backcall in /usr/local/lib/python3.11/dist-packages (from ipython>=7.0.0->tsilva-notebook-utils) (0.2.0)\n",
            "Requirement already satisfied: matplotlib-inline in /usr/local/lib/python3.11/dist-packages (from ipython>=7.0.0->tsilva-notebook-utils) (0.1.7)\n",
            "Requirement already satisfied: pexpect>4.3 in /usr/local/lib/python3.11/dist-packages (from ipython>=7.0.0->tsilva-notebook-utils) (4.9.0)\n",
            "Requirement already satisfied: parso<0.9.0,>=0.8.4 in /usr/local/lib/python3.11/dist-packages (from jedi>=0.16->ipython>=7.0.0->tsilva-notebook-utils) (0.8.4)\n",
            "Requirement already satisfied: ptyprocess>=0.5 in /usr/local/lib/python3.11/dist-packages (from pexpect>4.3->ipython>=7.0.0->tsilva-notebook-utils) (0.7.0)\n",
            "Requirement already satisfied: wcwidth in /usr/local/lib/python3.11/dist-packages (from prompt-toolkit!=3.0.0,!=3.0.1,<3.1.0,>=2.0.0->ipython>=7.0.0->tsilva-notebook-utils) (0.2.13)\n"
          ]
        }
      ],
      "source": [
        "!pip install swig\n",
        "!pip install gymnasium[box2d] # The gymnasium environment\n",
        "!pip install wandb # Weights & Biases logging\n",
        "!pip install tsilva-notebook-utils # Personal utils to help with notebook authoring"
      ]
    },
    {
      "cell_type": "markdown",
      "metadata": {
        "id": "YhRicHA-y7ZX"
      },
      "source": [
        "Here are the key settings we'll use. \ud83d\udd11 You don't need to know what they are just yet, you'll be able to tweak them after completing the notebook \ud83d\udcdd, in order to enhance your results: \ud83c\udf1f"
      ]
    },
    {
      "cell_type": "code",
      "execution_count": 2,
      "metadata": {
        "id": "rMEcAYDMwWrp"
      },
      "outputs": [],
      "source": [
        "CONFIG = dict(\n",
        "    seed = 42, # Seed to be used for reproducibility\n",
        "    env_id = \"CartPole-v1\", # The environment we want to solve\n",
        "    discount_factor = 0.99,  # Discount factor controls how much we value future rewards\n",
        "    hidden_size = 128,  # Neural network hidden layer size (128 gives enough capacity without overfitting)\n",
        "    learning_rate = 0.002,  # Learning rate for optimizer (0.002 is a safe middle ground for small networks)\n",
        "    n_train_episodes = 5_000,  # Total training episodes (5k should be more than enough)\n",
        "    average_reward_window = 10,  # Episodes required for calculating average reward\n",
        "    average_reward_threshold = None, # Average reward required for environment to be considered solved (defaults to threshold provided in gymnasium env spec)\n",
        "    normalize_returns = True,  # Whether to normalize returns\n",
        "    use_log_probs = True, # Whether to use the logarithm of the probability distribution\n",
        "    use_wandb = True # Whether to log to wandb\n",
        ")\n",
        "ORIGINAL_CONFIG = {**CONFIG} # Save original config for reference"
      ]
    },
    {
      "cell_type": "markdown",
      "metadata": {
        "id": "vBQHiCNRe8oy"
      },
      "source": [
        "Let's set seeds for all packages \ud83c\udf31 to ensure reproducibility \ud83d\udd04:"
      ]
    },
    {
      "cell_type": "code",
      "execution_count": 3,
      "metadata": {
        "id": "tH439777QJ0Y"
      },
      "outputs": [],
      "source": [
        "import random\n",
        "import numpy as np\n",
        "import torch\n",
        "\n",
        "def set_seed(seed):\n",
        "    random.seed(seed)\n",
        "    np.random.seed(seed)\n",
        "    torch.manual_seed(seed)\n",
        "    torch.cuda.manual_seed(seed) # If you're using a GPU\n",
        "    torch.backends.cudnn.deterministic = True  # Ensure deterministic behavior in CuDNN (if GPU is used)\n",
        "    torch.backends.cudnn.benchmark = False  # Disable optimizations that might introduce variability\n",
        "\n",
        "seed = CONFIG[\"seed\"]\n",
        "set_seed(seed)"
      ]
    },
    {
      "cell_type": "markdown",
      "metadata": {
        "id": "Ls7YAp8wZYgu"
      },
      "source": [
        "## Inspect Environment \ud83d\udd0d\ud83c\udf0d"
      ]
    },
    {
      "cell_type": "markdown",
      "metadata": {
        "id": "qsKCfH0IiIfw"
      },
      "source": [
        "Set up the environment \ud83c\udf0d:"
      ]
    },
    {
      "cell_type": "code",
      "execution_count": 4,
      "metadata": {
        "colab": {
          "base_uri": "https://localhost:8080/"
        },
        "id": "EoZHYo5uiAb6",
        "outputId": "791556f6-c5e1-4445-c7c3-11f3518d4482"
      },
      "outputs": [
        {
          "output_type": "execute_result",
          "data": {
            "text/plain": [
              "((4,), Discrete(2))"
            ]
          },
          "metadata": {},
          "execution_count": 4
        }
      ],
      "source": [
        "import gymnasium as gym\n",
        "env_id = CONFIG[\"env_id\"]\n",
        "def build_env(env_id): return gym.make(env_id, render_mode=\"rgb_array\")\n",
        "env = build_env(env_id)\n",
        "env.observation_space.shape, env.action_space"
      ]
    },
    {
      "cell_type": "markdown",
      "metadata": {
        "id": "yrX1a5KXiQlZ"
      },
      "source": [
        "Observations (states) consist of `4` numbers \ud83d\udd22, while actions are `0` or `1` \u2696\ufe0f. The [docs](https://gymnasium.farama.org/environments/classic_control/cart_pole/) provide details on these numbers, but it's not essential as the reinforcement learning algorithm can solve the environment regardless \ud83d\udcaa."
      ]
    },
    {
      "cell_type": "markdown",
      "metadata": {
        "id": "Jki_-IlrhnMd"
      },
      "source": [
        "Before proceeding, ensure the environment is reproducible. \ud83d\udd04 Run this cell multiple times; its output should remain consistent. \u2705 If it does, you may proceed. \ud83d\ude80"
      ]
    },
    {
      "cell_type": "code",
      "execution_count": 5,
      "metadata": {
        "colab": {
          "base_uri": "https://localhost:8080/"
        },
        "id": "O7vXHRIUhmYg",
        "outputId": "a6e6e6cc-0314-493b-9613-7640b3d55c13"
      },
      "outputs": [
        {
          "output_type": "execute_result",
          "data": {
            "text/plain": [
              "[array([ 0.0273956 , -0.00611216,  0.03585979,  0.0197368 ], dtype=float32),\n",
              " array([ 0.02727336, -0.20172954,  0.03625453,  0.32351476], dtype=float32),\n",
              " array([ 0.02323877, -0.39734846,  0.04272482,  0.62740684], dtype=float32),\n",
              " array([ 0.0152918 , -0.5930399 ,  0.05527296,  0.9332334 ], dtype=float32)]"
            ]
          },
          "metadata": {},
          "execution_count": 5
        }
      ],
      "source": [
        "seed = CONFIG[\"seed\"]\n",
        "state, _ = env.reset(seed=seed)\n",
        "[state] + [env.step(0)[0] for _ in range(3)]"
      ]
    },
    {
      "cell_type": "markdown",
      "metadata": {
        "id": "5rETCinTuWfK"
      },
      "source": [
        "Let's establish the reward threshold for this environment to be deemed solved: \ud83c\udfaf"
      ]
    },
    {
      "cell_type": "code",
      "execution_count": 6,
      "metadata": {
        "colab": {
          "base_uri": "https://localhost:8080/"
        },
        "id": "clxUK2csuYLk",
        "outputId": "cee68423-5938-4200-fe6b-84eb74421b05"
      },
      "outputs": [
        {
          "output_type": "execute_result",
          "data": {
            "text/plain": [
              "475.0"
            ]
          },
          "metadata": {},
          "execution_count": 6
        }
      ],
      "source": [
        "env.spec.reward_threshold"
      ]
    },
    {
      "cell_type": "markdown",
      "metadata": {
        "id": "_qN-Un_DuZ0C"
      },
      "source": [
        "If the average cumulative reward over multiple episodes exceeds the average reward threshold, the episode is considered solved. \ud83c\udf89"
      ]
    },
    {
      "cell_type": "markdown",
      "metadata": {
        "id": "-v-GQK8WucuH"
      },
      "source": [
        "Let's run the environment for one episode using a random policy \ud83c\udfb2 to observe its behavior \ud83d\udc40:"
      ]
    },
    {
      "cell_type": "code",
      "execution_count": 7,
      "metadata": {
        "colab": {
          "base_uri": "https://localhost:8080/",
          "height": 456
        },
        "id": "EswUdUOGi-A7",
        "outputId": "f24b667e-f685-4713-b3fa-e33054063819"
      },
      "outputs": [
        {
          "output_type": "stream",
          "name": "stdout",
          "text": [
            "Sample rewards: [1.0, 1.0, 1.0, 1.0, 1.0, 1.0, 1.0, 1.0, 1.0, 1.0, 1.0, 1.0, 1.0, 1.0, 1.0, 1.0]\n",
            "Total Reward: 16.0\n"
          ]
        },
        {
          "output_type": "execute_result",
          "data": {
            "text/plain": [
              "<IPython.core.display.HTML object>"
            ],
            "text/html": [
              "\n",
              "        <video width=\"608\" height=\"400\" controls autoplay loop muted>\n",
              "            <source src=\"data:video/mp4;base64,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\" type=\"video/mp4\">\n",
              "            Your browser does not support the video tag.\n",
              "        </video>\n",
              "    "
            ]
          },
          "metadata": {},
          "execution_count": 7
        }
      ],
      "source": [
        "import numpy as np\n",
        "from tsilva_notebook_utils.video import render_video\n",
        "\n",
        "# Define random policy\n",
        "# NOTE: I can't seem to ensure reproducibility of this\n",
        "# sampler in the latest version of gymnasium\n",
        "policy = lambda state: env.action_space.sample()\n",
        "\n",
        "# Reset environment\n",
        "seed = CONFIG[\"seed\"]\n",
        "state, _ = env.reset(seed=seed)\n",
        "\n",
        "# Run environment step by step until\n",
        "# it communicates it has finished\n",
        "rewards = []\n",
        "frames = []\n",
        "done = False\n",
        "while not done:\n",
        "    # Render current state and collect frame\n",
        "    frame = env.render()\n",
        "    frames.append(frame)\n",
        "\n",
        "    # Get next action from policy\n",
        "    action = policy(state)\n",
        "\n",
        "    # Execute action in environment\n",
        "    next_state, reward, terminated, truncated, _ = env.step(action)\n",
        "\n",
        "    # Determine if the environment\n",
        "    # has finished (eg: pole fell,\n",
        "    # cartpole went off the screen)\n",
        "    done = terminated or truncated\n",
        "    state = next_state\n",
        "\n",
        "    # Collect reward\n",
        "    rewards.append(reward)\n",
        "\n",
        "# Log total reward\n",
        "print(f\"Sample rewards: {rewards[:5] + rewards[:-5]}\")\n",
        "print(f\"Total Reward: {np.array(rewards).sum()}\")\n",
        "\n",
        "# Render collected environment frames as video\n",
        "render_video(frames)"
      ]
    },
    {
      "cell_type": "markdown",
      "metadata": {
        "id": "BCGJWILIj3XY"
      },
      "source": [
        "Spoiler: it's bad. \ud83d\ude2c The pole falls quickly because random actions aren't sufficient. You earn a `1.0` reward per step until it crashes, and to win, you must last **500** steps. \u23f3 Having observed the poor performance of a random policy, let's explore how **REINFORCE** can train a more effective one. \ud83d\ude80"
      ]
    },
    {
      "cell_type": "markdown",
      "metadata": {
        "id": "1cLIQ0OyNEHY"
      },
      "source": [
        "## Enter REINFORCE   \ud83e\udd14\u2728"
      ]
    },
    {
      "cell_type": "markdown",
      "metadata": {
        "id": "B0F-NqneNJcx"
      },
      "source": [
        "Our goal is to train a model that maximizes rewards in CartPole-v1 \ud83c\udfae by learning an effective action selection policy. REINFORCE directly adjusts this policy using complete episode rewards \ud83c\udfc6. As an on-policy, model-free, Monte Carlo algorithm, it learns through trial and error \ud83d\udd04 without needing environment dynamics, only updating after full episodes.\n",
        "\n",
        "We'll measure success by total episode rewards \ud83d\udcca and create a loss function (negative reward) for gradient descent to minimize\u2014thereby maximizing rewards \ud83d\udcc8. This simple approach will be refined as we progress. Let's dive in! \ud83c\udf0a\n"
      ]
    },
    {
      "cell_type": "markdown",
      "metadata": {
        "id": "jRq32u2T0sHG"
      },
      "source": [
        "## Create Policy Model \ud83d\udcc4\u2728"
      ]
    },
    {
      "cell_type": "markdown",
      "metadata": {
        "id": "Am4MdCmzkUb4"
      },
      "source": [
        "To train a policy with **REINFORCE** \ud83c\udfae, we need a model that adjusts based on policy performance (episode reward) \ud83c\udfc6. **Neural Networks** \ud83e\udde0 using **Backpropagation** \ud83d\udd04 and **Gradient Descent** \ud83d\udcc9 are ideal. A loss function that increases with poor performance \ud83d\udcc8 helps adjust the model's parameters to reinforce good actions \ud83d\udc4d and reduce bad ones \ud83d\udc4e in future episodes."
      ]
    },
    {
      "cell_type": "markdown",
      "metadata": {
        "id": "ke5GCtar-lRY"
      },
      "source": [
        "Let's create the **Neural Network** \ud83e\udd16 that will encode the desired policy \ud83d\udcdc:"
      ]
    },
    {
      "cell_type": "code",
      "execution_count": 8,
      "metadata": {
        "id": "ZH8p_DgUkhGg"
      },
      "outputs": [],
      "source": [
        "import torch\n",
        "import torch.nn as nn\n",
        "\n",
        "class PolicyNetwork(nn.Module):\n",
        "    def __init__(self, state_dim, action_dim, hidden_size=None):\n",
        "        super(PolicyNetwork, self).__init__()\n",
        "\n",
        "        if hidden_size is None: hidden_size = CONFIG[\"hidden_size\"]\n",
        "\n",
        "        # Create a multilayer perceptron with just one hidden layer\n",
        "        self.net = nn.Sequential(\n",
        "            nn.Linear(state_dim, hidden_size), # Hidden layer (observation_space_size, hidden_layer_size)\n",
        "            nn.ReLU(), # ReLU activation (for be able to model a non-linear functions)\n",
        "            nn.Linear(hidden_size, action_dim) # Output layer (hidden_layer_size, action_space_size)\n",
        "        )\n",
        "\n",
        "    def forward(self, x):\n",
        "        return self.net(x)\n",
        "\n",
        "def build_model(env, seed=None):\n",
        "    if seed is None: seed = CONFIG[\"seed\"]\n",
        "    torch.manual_seed(seed)\n",
        "    input_size = env.observation_space.shape[0]\n",
        "    output_size = env.action_space.n\n",
        "    model = PolicyNetwork(input_size, output_size)\n",
        "    return model\n",
        "\n",
        "model = build_model(env)"
      ]
    },
    {
      "cell_type": "markdown",
      "metadata": {
        "id": "4ec_zlbDk0ob"
      },
      "source": [
        "For CartPole's low-dimensional observation space \ud83c\udf0c and binary action space \ud83c\udfae, a simple **Multilayer Perceptron** \ud83e\udde0 with one hidden layer is sufficient. Our network takes **4** observation values as input \ud83d\udd0d and outputs **2** logits \ud83d\udcca representing action quality scores.\n",
        "\n",
        "Let's test our network with an observation \ud83d\ude80:\n"
      ]
    },
    {
      "cell_type": "code",
      "execution_count": 9,
      "metadata": {
        "colab": {
          "base_uri": "https://localhost:8080/"
        },
        "id": "3d9woNeBlepE",
        "outputId": "83e3f6d7-9f18-4095-d84c-1ff34846f278"
      },
      "outputs": [
        {
          "output_type": "execute_result",
          "data": {
            "text/plain": [
              "tensor([-0.2775, -0.1908])"
            ]
          },
          "metadata": {},
          "execution_count": 9
        }
      ],
      "source": [
        "with torch.no_grad(): # Don't track gradients during inference\n",
        "    action_logits = model(torch.tensor(state)) # State is a numpy object, needs to be converted to tensor first\n",
        "action_logits"
      ]
    },
    {
      "cell_type": "markdown",
      "metadata": {
        "id": "IBv7oYqp0foX"
      },
      "source": [
        "The higher the logit for an action, the more confident the model is that the action should be taken in that state. \ud83d\udcaa However, since the model is untrained, these logits are currently random. \ud83c\udfb2"
      ]
    },
    {
      "cell_type": "markdown",
      "metadata": {
        "id": "NxsCFmLO_jZ9"
      },
      "source": [
        "Logits alone aren't enough\u2014our untrained model needs to both explore and exploit. By **sampling** actions based on confidence levels \ud83c\udfb2, we:\n",
        "- Allow exploration of less-favored actions that might yield **surprising rewards** \ud83d\udcb0\n",
        "- Still tend toward the **currently best-known actions** while learning continues \ud83d\udcc8\n",
        "\n",
        "This exploration-exploitation balance is crucial for effective reinforcement learning.\n"
      ]
    },
    {
      "cell_type": "markdown",
      "metadata": {
        "id": "6g4El6Ddpu7h"
      },
      "source": [
        "To sample actions based on the model's confidence \ud83e\udd16, we convert logits into a probability distribution \ud83d\udcca (values from `0.0` to `1.0` that sum to `1.0`) using the `softmax()` function:"
      ]
    },
    {
      "cell_type": "code",
      "execution_count": 10,
      "metadata": {
        "colab": {
          "base_uri": "https://localhost:8080/"
        },
        "id": "NwGpddsXt0_u",
        "outputId": "761e8978-34bc-4d55-eafc-a41b007d6506"
      },
      "outputs": [
        {
          "output_type": "execute_result",
          "data": {
            "text/plain": [
              "(tensor([0.4784, 0.5216]), tensor(1.))"
            ]
          },
          "metadata": {},
          "execution_count": 10
        }
      ],
      "source": [
        "action_probs = torch.softmax(action_logits, dim=-1) # Dim = -1 means the last dimension of the tensor, Dim = 0 would also work in this case\n",
        "action_probs, action_probs.sum()"
      ]
    },
    {
      "cell_type": "markdown",
      "metadata": {
        "id": "A3o1QdQmyhcv"
      },
      "source": [
        "Now, let's sample an action: \ud83c\udfac\u2728"
      ]
    },
    {
      "cell_type": "code",
      "execution_count": 11,
      "metadata": {
        "colab": {
          "base_uri": "https://localhost:8080/"
        },
        "id": "WVeLSeN3t43M",
        "outputId": "3f2908ba-823b-4cdd-e651-779e7e9175fa"
      },
      "outputs": [
        {
          "output_type": "execute_result",
          "data": {
            "text/plain": [
              "0"
            ]
          },
          "metadata": {},
          "execution_count": 11
        }
      ],
      "source": [
        "action = torch.multinomial(action_probs, 1).item() # Sample 1 action from the probability distribution\n",
        "action"
      ]
    },
    {
      "cell_type": "markdown",
      "metadata": {
        "id": "z77k8zz00NNa"
      },
      "source": [
        "You can run the cell above multiple times \ud83d\udd04 to obtain different actions. The action with the highest logit \ud83d\udcc8 will appear more frequently."
      ]
    },
    {
      "cell_type": "markdown",
      "metadata": {
        "id": "zI8XEKv00u8q"
      },
      "source": [
        "## Create Loss Function"
      ]
    },
    {
      "cell_type": "markdown",
      "metadata": {
        "id": "dfId5_Ws8ahz"
      },
      "source": [
        "To train our model effectively, we need a smart way to assign credit to actions. Here's our approach:\n",
        "\n",
        "1. Instead of using the same total reward for all actions, we use **return** \ud83d\udcb0\u2014the sum of future rewards from each timestep. Early actions in a successful episode get higher returns (like `200`), while later actions get less (like `1`).\n",
        "\n",
        "2. Since actions are sampled probabilistically \ud83d\udcca, we scale returns by confidence:\n",
        "   - High return (`100`) + low confidence (`10%`) = modest update (`10`)\n",
        "   - Same return + high confidence (`90%`) = strong update (`90`)\n",
        "\n",
        "3. We use **log probabilities** instead of raw probabilities for:\n",
        "   - Better numerical stability \ud83d\udd12\n",
        "   - Stronger penalties when high-return actions had low confidence\n",
        "   - More effective gradient signals\n",
        "\n",
        "By negating this scaled return, we create our **loss function** \u2696\ufe0f. Minimizing this loss pushes our policy to be more confident in actions that lead to high returns.\n"
      ]
    },
    {
      "cell_type": "markdown",
      "metadata": {
        "id": "SqQEgP5K4FGv"
      },
      "source": [
        "Let's implement our loss function step by step. First, we need to collect rewards \ud83c\udf89 and action log probabilities \ud83d\udcca:"
      ]
    },
    {
      "cell_type": "code",
      "execution_count": 12,
      "metadata": {
        "colab": {
          "base_uri": "https://localhost:8080/"
        },
        "id": "nou5mBBcsNJf",
        "outputId": "bf68849f-a5b6-4dbf-ed24-08b7b065dab5"
      },
      "outputs": [
        {
          "output_type": "execute_result",
          "data": {
            "text/plain": [
              "([1.0, 1.0, 1.0, 1.0, 1.0],\n",
              " [tensor(-0.7961),\n",
              "  tensor(-0.6631),\n",
              "  tensor(-0.7942),\n",
              "  tensor(-0.6654),\n",
              "  tensor(-0.6033)])"
            ]
          },
          "metadata": {},
          "execution_count": 12
        }
      ],
      "source": [
        "def run_episode(\n",
        "    env,\n",
        "    policy,\n",
        "    use_log_probs=None,\n",
        "    train_mode=False\n",
        "):\n",
        "    if use_log_probs is None: use_log_probs = CONFIG[\"use_log_probs\"]\n",
        "\n",
        "    # Reset the environment (we don't want to\n",
        "    # set the seed here because we may or may\n",
        "    # not want to start from same state depending\n",
        "    # on the use case)\n",
        "    state, _ = env.reset()\n",
        "\n",
        "    # Run environment until it\n",
        "    # communicates that it has finished\n",
        "    done = False\n",
        "    rewards = []\n",
        "    action_logprobs = []\n",
        "    frames = []\n",
        "    while not done:\n",
        "        # Collect frames when not in training mode\n",
        "        if not train_mode: frames.append(env.render())\n",
        "\n",
        "        # Predict action probabilities using the model\n",
        "        with torch.no_grad() if not train_mode else torch.enable_grad():\n",
        "            action_logits = policy(torch.tensor(state))\n",
        "            action_probs = torch.softmax(action_logits, dim=-1)\n",
        "            action = torch.multinomial(action_probs, 1).item()\n",
        "\n",
        "        # Collect action log probabilities\n",
        "        action_prob = action_probs[action]\n",
        "        action_log_prob = torch.log(action_prob) if use_log_probs else action_prob\n",
        "        action_logprobs.append(action_log_prob)\n",
        "\n",
        "        # Step the environment\n",
        "        next_state, reward, terminated, truncated, _ = env.step(action)\n",
        "        done = terminated or truncated\n",
        "\n",
        "        # Store reward and update state\n",
        "        rewards.append(reward)\n",
        "        state = next_state\n",
        "\n",
        "    return rewards, action_logprobs, frames\n",
        "\n",
        "# Run an episode\n",
        "rewards, action_logprobs, _ = run_episode(env, model)\n",
        "rewards[:5], action_logprobs[:5]"
      ]
    },
    {
      "cell_type": "markdown",
      "metadata": {
        "id": "HtXpb-GmL5F2"
      },
      "source": [
        "Let's convert rewards to returns by accumulating them from the end to the start of the episode. \ud83c\udf89\ud83d\udcc8"
      ]
    },
    {
      "cell_type": "code",
      "execution_count": 13,
      "metadata": {
        "colab": {
          "base_uri": "https://localhost:8080/"
        },
        "id": "G9tsq94XsenW",
        "outputId": "4142c1b8-454f-462d-a79b-9e90987ea994"
      },
      "outputs": [
        {
          "output_type": "execute_result",
          "data": {
            "text/plain": [
              "tensor([22.2179, 21.4322, 20.6386, 19.8369, 19.0272, 18.2093, 17.3831, 16.5486,\n",
              "        15.7057, 14.8542, 13.9942, 13.1254, 12.2479, 11.3615, 10.4662,  9.5618,\n",
              "         8.6483,  7.7255,  6.7935,  5.8520,  4.9010,  3.9404,  2.9701,  1.9900,\n",
              "         1.0000])"
            ]
          },
          "metadata": {},
          "execution_count": 13
        }
      ],
      "source": [
        "def calculate_returns(\n",
        "    rewards,\n",
        "    discount_factor=None,\n",
        "    normalize=None\n",
        "):\n",
        "    if discount_factor is None: discount_factor = CONFIG[\"discount_factor\"]\n",
        "    if normalize is None: normalize = CONFIG[\"normalize_returns\"]\n",
        "\n",
        "    returns = torch.zeros(len(rewards))\n",
        "    for t in range(len(returns)-1, -1, -1):\n",
        "        returns[t] = rewards[t] + discount_factor * (returns[t+1] if t < len(returns)-1 else 0)\n",
        "\n",
        "    # Normalize values so that they match a normal distribution\n",
        "    # we only have to subtract the mean of the values and divide by\n",
        "    # the standard deviation\n",
        "    if normalize:\n",
        "        returns = (returns - returns.mean()) / (returns.std() + 1e-8) # NOTE: we add a small value to std() because it can be zero when all values are the same\n",
        "\n",
        "    return returns\n",
        "\n",
        "calculate_returns(rewards, normalize=False)"
      ]
    },
    {
      "cell_type": "markdown",
      "metadata": {
        "id": "NZCouPS7s1Hw"
      },
      "source": [
        "Notice how earlier timesteps have higher returns \ud83d\udcc8 because they include all future rewards. Returns naturally decrease \ud83d\udcc9 through the episode, with the final step showing only its immediate reward (`1.0`) \ud83c\udfaf.\n",
        "\n",
        "This pattern becomes more complex in environments with varied reward structures \ud83c\udf2a\ufe0f, but the principle remains: actions are credited based on their contribution to all subsequent rewards.\n"
      ]
    },
    {
      "cell_type": "markdown",
      "metadata": {
        "id": "A27OUALJIREr"
      },
      "source": [
        "Now, let's recalculate the returns using normalization \ud83d\udcca:"
      ]
    },
    {
      "cell_type": "code",
      "execution_count": 14,
      "metadata": {
        "colab": {
          "base_uri": "https://localhost:8080/"
        },
        "id": "jApU4gs4tNfA",
        "outputId": "ebf2af55-5f2f-4bcf-f5e2-734c5e6054fb"
      },
      "outputs": [
        {
          "output_type": "execute_result",
          "data": {
            "text/plain": [
              "tensor([ 1.5682,  1.4474,  1.3254,  1.2022,  1.0777,  0.9520,  0.8249,  0.6967,\n",
              "         0.5671,  0.4362,  0.3039,  0.1704,  0.0355, -0.1008, -0.2385, -0.3775,\n",
              "        -0.5179, -0.6598, -0.8031, -0.9478, -1.0941, -1.2417, -1.3909, -1.5416,\n",
              "        -1.6938])"
            ]
          },
          "metadata": {},
          "execution_count": 14
        }
      ],
      "source": [
        "returns = calculate_returns(rewards)\n",
        "returns"
      ]
    },
    {
      "cell_type": "markdown",
      "metadata": {
        "id": "47wuvujgNkvR"
      },
      "source": [
        "Don't worry about negative numbers; the relative scale of rewards remains intact. \ud83c\udf89 What matters is the direction of the return, not the sign. \u27a1\ufe0f"
      ]
    },
    {
      "cell_type": "markdown",
      "metadata": {
        "id": "x_2ISf98DFWO"
      },
      "source": [
        "We need to format the action log probabilities into a 1D tensor matching the returns' length \ud83d\udccf. They are currently stored as a list of tensors \ud83d\udccb. We can convert them into a single tensor by using `torch.stack()` \ud83d\udd17:"
      ]
    },
    {
      "cell_type": "code",
      "execution_count": 15,
      "metadata": {
        "colab": {
          "base_uri": "https://localhost:8080/"
        },
        "id": "YAleVAsy3iAL",
        "outputId": "63d8bb5c-91a3-413e-a823-862fd8741ace"
      },
      "outputs": [
        {
          "output_type": "execute_result",
          "data": {
            "text/plain": [
              "tensor([-0.7961, -0.6631, -0.7942, -0.6654, -0.6033, -0.5594, -0.5183, -0.9786,\n",
              "        -0.5207, -0.9769, -0.9015, -0.8446, -0.6050, -0.5604, -0.9075, -0.8484,\n",
              "        -0.6003, -0.5565, -0.5103, -0.4592, -0.4163, -1.1548, -0.4098, -0.3693,\n",
              "        -0.3316])"
            ]
          },
          "metadata": {},
          "execution_count": 15
        }
      ],
      "source": [
        "stacked_action_logprobs = torch.stack(action_logprobs)\n",
        "stacked_action_logprobs"
      ]
    },
    {
      "cell_type": "markdown",
      "metadata": {
        "id": "eXJnYNGYDgUe"
      },
      "source": [
        "Let's confirm that **rewards** \ud83c\udf81 and **action log probabilities** \ud83d\udcca share the same shape:"
      ]
    },
    {
      "cell_type": "code",
      "execution_count": 16,
      "metadata": {
        "colab": {
          "base_uri": "https://localhost:8080/"
        },
        "id": "qzIVrTyi3kbo",
        "outputId": "a4957af9-5d67-4f4a-eb97-ec52f476d660"
      },
      "outputs": [
        {
          "output_type": "execute_result",
          "data": {
            "text/plain": [
              "(torch.Size([25]), torch.Size([25]))"
            ]
          },
          "metadata": {},
          "execution_count": 16
        }
      ],
      "source": [
        "returns.shape, stacked_action_logprobs.shape"
      ]
    },
    {
      "cell_type": "markdown",
      "metadata": {
        "id": "n_DK-7z5DkI7"
      },
      "source": [
        "They share the same shape \ud83d\udd37, allowing us to scale the returns \ud83d\udcc8\u2728:"
      ]
    },
    {
      "cell_type": "code",
      "execution_count": 17,
      "metadata": {
        "colab": {
          "base_uri": "https://localhost:8080/"
        },
        "id": "Ef3863by3WM6",
        "outputId": "c9d3265b-99bd-4a7d-f6ac-f0b03b47bb0c"
      },
      "outputs": [
        {
          "output_type": "execute_result",
          "data": {
            "text/plain": [
              "tensor([-1.2485, -0.9598, -1.0527, -0.7999, -0.6502, -0.5325, -0.4276, -0.6817,\n",
              "        -0.2953, -0.4261, -0.2740, -0.1439, -0.0215,  0.0565,  0.2164,  0.3203,\n",
              "         0.3109,  0.3672,  0.4098,  0.4352,  0.4554,  1.4340,  0.5700,  0.5693,\n",
              "         0.5616])"
            ]
          },
          "metadata": {},
          "execution_count": 17
        }
      ],
      "source": [
        "scaled_returns = stacked_action_logprobs * returns\n",
        "scaled_returns"
      ]
    },
    {
      "cell_type": "markdown",
      "metadata": {
        "id": "sw2KoIOaDmhp"
      },
      "source": [
        "With scaled rewards, we can calculate the episode's mean reward \ud83c\udfaf, which our policy aims to maximize \ud83d\udcc8:"
      ]
    },
    {
      "cell_type": "code",
      "execution_count": 18,
      "metadata": {
        "colab": {
          "base_uri": "https://localhost:8080/"
        },
        "id": "mVbayYKJ3VAW",
        "outputId": "b0013cd1-8bc8-4bca-b288-91fa94e809bb"
      },
      "outputs": [
        {
          "output_type": "execute_result",
          "data": {
            "text/plain": [
              "tensor(-0.0723)"
            ]
          },
          "metadata": {},
          "execution_count": 18
        }
      ],
      "source": [
        "mean_return = torch.mean(scaled_returns)\n",
        "mean_return"
      ]
    },
    {
      "cell_type": "markdown",
      "metadata": {
        "id": "Hl8RN0WQJz0Q"
      },
      "source": [
        "Finally, we negate the mean return to obtain the policy loss. **Gradient descent** minimizes this loss, improving our policy. Negating the mean reward introduces a term that, when minimized, enhances the mean reward. \ud83d\udcc9\u2728"
      ]
    },
    {
      "cell_type": "code",
      "execution_count": 19,
      "metadata": {
        "colab": {
          "base_uri": "https://localhost:8080/"
        },
        "id": "GZ_-ks51KKRW",
        "outputId": "8bda0c0a-d86d-46fa-8431-35d60ec432e1"
      },
      "outputs": [
        {
          "output_type": "execute_result",
          "data": {
            "text/plain": [
              "tensor(0.0723)"
            ]
          },
          "metadata": {},
          "execution_count": 19
        }
      ],
      "source": [
        "policy_loss = -1.0 * mean_return\n",
        "policy_loss"
      ]
    },
    {
      "cell_type": "code",
      "execution_count": 20,
      "metadata": {
        "colab": {
          "base_uri": "https://localhost:8080/"
        },
        "id": "L_1gsgaeMjU-",
        "outputId": "0177edf8-113e-4d81-a7ef-e4f7cb102bee"
      },
      "outputs": [
        {
          "output_type": "execute_result",
          "data": {
            "text/plain": [
              "tensor(0.0723)"
            ]
          },
          "metadata": {},
          "execution_count": 20
        }
      ],
      "source": [
        "def calculate_policy_loss(rewards, action_logprobs):\n",
        "    # Calculate returns\n",
        "    returns = calculate_returns(rewards)\n",
        "\n",
        "    # Stack action log probabilities and scale returns\n",
        "    stacked_action_logprobs = torch.stack(action_logprobs)\n",
        "    scaled_returns = stacked_action_logprobs * returns\n",
        "\n",
        "    # Calculate policy loss\n",
        "    mean_return = torch.mean(scaled_returns)\n",
        "    policy_loss = -mean_return\n",
        "\n",
        "    return policy_loss\n",
        "\n",
        "calculate_policy_loss(rewards, action_logprobs)"
      ]
    },
    {
      "cell_type": "markdown",
      "metadata": {
        "id": "qezGXcY3uJsC"
      },
      "source": [
        "Now that we can calculate the loss \ud83d\udcc9, we will run the training loop \ud83d\udd04 to adjust the policy using backpropagation and gradient descent optimization. \ud83d\udca1"
      ]
    },
    {
      "cell_type": "markdown",
      "metadata": {
        "id": "Ywz-fbCt04bk"
      },
      "source": [
        "## Train Policy \ud83d\ude86\ud83d\udcdc"
      ]
    },
    {
      "cell_type": "code",
      "execution_count": 21,
      "metadata": {
        "colab": {
          "base_uri": "https://localhost:8080/",
          "height": 1000
        },
        "id": "FRUfxDDLJbKF",
        "outputId": "ddaf9ba6-ed3c-453b-bfe5-b403f2a8318a"
      },
      "outputs": [
        {
          "output_type": "stream",
          "name": "stderr",
          "text": [
            "\u001b[34m\u001b[1mwandb\u001b[0m: Using wandb-core as the SDK backend.  Please refer to https://wandb.me/wandb-core for more information.\n",
            "\u001b[34m\u001b[1mwandb\u001b[0m: Currently logged in as: \u001b[33mtsilva\u001b[0m to \u001b[32mhttps://api.wandb.ai\u001b[0m. Use \u001b[1m`wandb login --relogin`\u001b[0m to force relogin\n"
          ]
        },
        {
          "output_type": "display_data",
          "data": {
            "text/plain": [
              "<IPython.core.display.HTML object>"
            ],
            "text/html": [
              "Tracking run with wandb version 0.19.7"
            ]
          },
          "metadata": {}
        },
        {
          "output_type": "display_data",
          "data": {
            "text/plain": [
              "<IPython.core.display.HTML object>"
            ],
            "text/html": [
              "Run data is saved locally in <code>/content/wandb/run-20250228_140054-cv4o0ffo</code>"
            ]
          },
          "metadata": {}
        },
        {
          "output_type": "display_data",
          "data": {
            "text/plain": [
              "<IPython.core.display.HTML object>"
            ],
            "text/html": [
              "Syncing run <strong><a href='https://wandb.ai/tsilva/CartPole-v1/runs/cv4o0ffo' target=\"_blank\">proud-violet-10</a></strong> to <a href='https://wandb.ai/tsilva/CartPole-v1' target=\"_blank\">Weights & Biases</a> (<a href='https://wandb.me/developer-guide' target=\"_blank\">docs</a>)<br>"
            ]
          },
          "metadata": {}
        },
        {
          "output_type": "display_data",
          "data": {
            "text/plain": [
              "<IPython.core.display.HTML object>"
            ],
            "text/html": [
              " View project at <a href='https://wandb.ai/tsilva/CartPole-v1' target=\"_blank\">https://wandb.ai/tsilva/CartPole-v1</a>"
            ]
          },
          "metadata": {}
        },
        {
          "output_type": "display_data",
          "data": {
            "text/plain": [
              "<IPython.core.display.HTML object>"
            ],
            "text/html": [
              " View run at <a href='https://wandb.ai/tsilva/CartPole-v1/runs/cv4o0ffo' target=\"_blank\">https://wandb.ai/tsilva/CartPole-v1/runs/cv4o0ffo</a>"
            ]
          },
          "metadata": {}
        },
        {
          "output_type": "stream",
          "name": "stdout",
          "text": [
            "Episode 10, Avg Reward: 20.3, Policy Loss: -0.003978797700256109\n",
            "Episode 20, Avg Reward: 24.1, Policy Loss: -0.0013573586475104094\n",
            "Episode 30, Avg Reward: 21.6, Policy Loss: 0.01412947103381157\n",
            "Episode 40, Avg Reward: 30.8, Policy Loss: -0.002739592222496867\n",
            "Episode 50, Avg Reward: 29.3, Policy Loss: -0.01960017904639244\n",
            "Episode 60, Avg Reward: 26.5, Policy Loss: -0.01942828670144081\n",
            "Episode 70, Avg Reward: 41.3, Policy Loss: 0.027682345360517502\n",
            "Episode 80, Avg Reward: 52.6, Policy Loss: 0.004997516982257366\n",
            "Episode 90, Avg Reward: 56.5, Policy Loss: 0.035669125616550446\n",
            "Episode 100, Avg Reward: 84.0, Policy Loss: -0.006862921640276909\n",
            "Episode 110, Avg Reward: 71.4, Policy Loss: 0.0012867982732132077\n",
            "Episode 120, Avg Reward: 68.0, Policy Loss: 0.021960675716400146\n",
            "Episode 130, Avg Reward: 83.2, Policy Loss: -0.004512185230851173\n",
            "Episode 140, Avg Reward: 108.1, Policy Loss: 0.020758990198373795\n",
            "Episode 150, Avg Reward: 131.5, Policy Loss: -0.007825667969882488\n",
            "Episode 160, Avg Reward: 109.8, Policy Loss: -0.027192233130335808\n",
            "Episode 170, Avg Reward: 105.2, Policy Loss: -0.03087168186903\n",
            "Episode 180, Avg Reward: 129.2, Policy Loss: 0.04388372227549553\n",
            "Episode 190, Avg Reward: 80.5, Policy Loss: -0.0057111140340566635\n",
            "Episode 200, Avg Reward: 137.6, Policy Loss: -0.017315343022346497\n",
            "Episode 210, Avg Reward: 125.1, Policy Loss: 0.002138701966032386\n",
            "Episode 220, Avg Reward: 147.5, Policy Loss: -0.000941820559091866\n",
            "Episode 230, Avg Reward: 196.9, Policy Loss: -0.0038690839428454638\n",
            "Episode 240, Avg Reward: 174.1, Policy Loss: -0.05471688508987427\n",
            "Episode 250, Avg Reward: 233.4, Policy Loss: -0.03346934914588928\n",
            "Episode 260, Avg Reward: 238.5, Policy Loss: -0.005747991148382425\n",
            "Episode 270, Avg Reward: 214.1, Policy Loss: -0.007678693160414696\n",
            "Episode 280, Avg Reward: 352.2, Policy Loss: -0.0056069293059408665\n",
            "Episode 290, Avg Reward: 337.7, Policy Loss: -0.004111383575946093\n",
            "Episode 300, Avg Reward: 372.6, Policy Loss: -0.018124205991625786\n",
            "Episode 310, Avg Reward: 396.6, Policy Loss: -0.009632161818444729\n",
            "Episode 320, Avg Reward: 300.7, Policy Loss: -0.007728354539722204\n",
            "Episode 330, Avg Reward: 395.7, Policy Loss: -0.0038548544980585575\n",
            "Episode 340, Avg Reward: 371.1, Policy Loss: -0.0026327266823500395\n",
            "Episode 350, Avg Reward: 203.8, Policy Loss: -0.00539405969902873\n",
            "Episode 360, Avg Reward: 197.0, Policy Loss: 0.027442699298262596\n",
            "Episode 370, Avg Reward: 172.5, Policy Loss: 0.018871242180466652\n",
            "Episode 380, Avg Reward: 128.4, Policy Loss: -0.002482078969478607\n",
            "Episode 390, Avg Reward: 135.2, Policy Loss: -0.0005656532011926174\n",
            "Episode 400, Avg Reward: 223.6, Policy Loss: -0.009186677634716034\n",
            "Episode 410, Avg Reward: 288.0, Policy Loss: -0.013250456191599369\n",
            "Episode 420, Avg Reward: 351.4, Policy Loss: 0.00681693572551012\n",
            "Episode 430, Avg Reward: 407.8, Policy Loss: -0.03630753234028816\n",
            "Episode 440, Avg Reward: 389.4, Policy Loss: -0.00834981445223093\n",
            "Episode 450, Avg Reward: 297.7, Policy Loss: -0.04161743447184563\n",
            "Episode 460, Avg Reward: 195.9, Policy Loss: -0.02376817911863327\n",
            "Episode 470, Avg Reward: 197.1, Policy Loss: 0.0003691652091220021\n",
            "Episode 480, Avg Reward: 265.2, Policy Loss: -0.03438439220190048\n",
            "Episode 490, Avg Reward: 414.8, Policy Loss: -0.00441347761079669\n",
            "Episode 500, Avg Reward: 436.5, Policy Loss: -0.04121257737278938\n",
            "Episode 510, Avg Reward: 363.8, Policy Loss: 0.0006433469243347645\n",
            "Episode 520, Avg Reward: 429.6, Policy Loss: -0.015353020280599594\n",
            "Episode 530, Avg Reward: 464.3, Policy Loss: -0.041204843670129776\n",
            "Episode 540, Avg Reward: 500.0, Policy Loss: -0.0026698941364884377\n",
            "Solved in 539 episodes; 77.19 seconds; average reward: 500.0\n"
          ]
        },
        {
          "output_type": "display_data",
          "data": {
            "text/plain": [
              "<IPython.core.display.HTML object>"
            ],
            "text/html": []
          },
          "metadata": {}
        },
        {
          "output_type": "display_data",
          "data": {
            "text/plain": [
              "<IPython.core.display.HTML object>"
            ],
            "text/html": [
              "<br>    <style><br>        .wandb-row {<br>            display: flex;<br>            flex-direction: row;<br>            flex-wrap: wrap;<br>            justify-content: flex-start;<br>            width: 100%;<br>        }<br>        .wandb-col {<br>            display: flex;<br>            flex-direction: column;<br>            flex-basis: 100%;<br>            flex: 1;<br>            padding: 10px;<br>        }<br>    </style><br><div class=\"wandb-row\"><div class=\"wandb-col\"><h3>Run history:</h3><br/><table class=\"wandb\"><tr><td>episode</td><td>\u2581\u2581\u2581\u2582\u2582\u2582\u2582\u2582\u2583\u2583\u2583\u2583\u2584\u2584\u2584\u2584\u2584\u2584\u2584\u2585\u2585\u2585\u2585\u2585\u2585\u2586\u2586\u2586\u2586\u2586\u2586\u2586\u2586\u2587\u2587\u2587\u2587\u2587\u2588\u2588</td></tr><tr><td>policy_loss</td><td>\u2586\u2587\u2585\u2588\u2584\u2585\u2585\u2585\u2585\u2585\u2585\u2585\u2584\u2584\u2586\u2585\u2585\u2586\u2584\u2585\u2585\u2585\u2585\u2585\u2585\u2584\u2584\u2584\u2584\u2581\u2585\u2585\u2586\u2585\u2584\u2585\u2585\u2585\u2585\u2586</td></tr><tr><td>reward</td><td>\u2581\u2581\u2581\u2581\u2581\u2581\u2583\u2583\u2581\u2582\u2583\u2583\u2583\u2583\u2583\u2585\u2582\u2583\u2583\u2581\u2583\u2584\u2583\u2585\u2582\u2584\u2582\u2588\u2585\u2586\u2585\u2585\u2583\u2582\u2586\u2584\u2584\u2585\u2585\u2588</td></tr></table><br/></div><div class=\"wandb-col\"><h3>Run summary:</h3><br/><table class=\"wandb\"><tr><td>avg_reward</td><td>500</td></tr><tr><td>elapsed</td><td>77.19074</td></tr><tr><td>episode</td><td>539</td></tr><tr><td>policy_loss</td><td>-0.00267</td></tr><tr><td>reward</td><td>500</td></tr><tr><td>solved</td><td>True</td></tr></table><br/></div></div>"
            ]
          },
          "metadata": {}
        },
        {
          "output_type": "display_data",
          "data": {
            "text/plain": [
              "<IPython.core.display.HTML object>"
            ],
            "text/html": [
              " View run <strong style=\"color:#cdcd00\">proud-violet-10</strong> at: <a href='https://wandb.ai/tsilva/CartPole-v1/runs/cv4o0ffo' target=\"_blank\">https://wandb.ai/tsilva/CartPole-v1/runs/cv4o0ffo</a><br> View project at: <a href='https://wandb.ai/tsilva/CartPole-v1' target=\"_blank\">https://wandb.ai/tsilva/CartPole-v1</a><br>Synced 5 W&B file(s), 0 media file(s), 0 artifact file(s) and 0 other file(s)"
            ]
          },
          "metadata": {}
        },
        {
          "output_type": "display_data",
          "data": {
            "text/plain": [
              "<IPython.core.display.HTML object>"
            ],
            "text/html": [
              "Find logs at: <code>./wandb/run-20250228_140054-cv4o0ffo/logs</code>"
            ]
          },
          "metadata": {}
        },
        {
          "output_type": "execute_result",
          "data": {
            "text/plain": [
              "[0.044148702174425125,\n",
              " 0.021104007959365845,\n",
              " 0.08551571518182755,\n",
              " '...',\n",
              " 0.011115649715065956,\n",
              " 0.02528190240263939,\n",
              " -0.0026698941364884377]"
            ]
          },
          "metadata": {},
          "execution_count": 21
        }
      ],
      "source": [
        "import time\n",
        "import wandb\n",
        "import torch.optim as optim\n",
        "import matplotlib.pyplot as plt\n",
        "from tsilva_notebook_utils.video import render_video\n",
        "\n",
        "def train(\n",
        "    env,\n",
        "    model,\n",
        "    n_episodes=None,\n",
        "    learning_rate=None,\n",
        "    average_reward_window=None,\n",
        "    average_reward_threshold=None,\n",
        "    use_wandb=None,\n",
        "    wandb_project=None,\n",
        "    wandb_run_name=None,\n",
        "    seed=None,\n",
        "    log=True\n",
        "):\n",
        "    if n_episodes is None: n_episodes = CONFIG[\"n_train_episodes\"]\n",
        "    if learning_rate is None: learning_rate = CONFIG[\"learning_rate\"]\n",
        "    if average_reward_window is None: average_reward_window = CONFIG[\"average_reward_window\"]\n",
        "    if average_reward_threshold is None: average_reward_threshold = CONFIG.get(\"average_reward_threshold\")\n",
        "    if average_reward_threshold is None: average_reward_threshold = env.spec.reward_threshold\n",
        "    if use_wandb is None: use_wandb = CONFIG[\"use_wandb\"]\n",
        "    if wandb_project is None: wandb_project = CONFIG.get(\"wandb_project\")\n",
        "    if wandb_project is None: wandb_project = f\"{env.spec.id}\"\n",
        "    if seed is None: seed = CONFIG[\"seed\"]\n",
        "\n",
        "    # In case wandb is enabled, initialize run\n",
        "    if use_wandb: wandb.init(project=wandb_project, config=CONFIG)\n",
        "\n",
        "    try:\n",
        "        # Set seeds to make training runs deterministic\n",
        "        torch.manual_seed(seed)\n",
        "        state, _ = env.reset(seed=seed)\n",
        "\n",
        "        # Set the model in training mode\n",
        "        model.train()\n",
        "\n",
        "        # Track the model\n",
        "        if use_wandb: wandb.watch(model)\n",
        "\n",
        "        # Create the optimizer that will adjust the policy\n",
        "        # model's parameters to minimize policy loss\n",
        "        optimizer = optim.Adam(model.parameters(), lr=learning_rate)\n",
        "\n",
        "        # Run training for N episodes\n",
        "        solved = False\n",
        "        start = time.time()\n",
        "        episode_rewards = []\n",
        "        episode_policy_losses = []\n",
        "        for episode in range(n_episodes):\n",
        "            # Run the episode (enable train mode to track gradients)\n",
        "            rewards, action_logprobs, frames = run_episode(env, model, train_mode=True)\n",
        "\n",
        "            # Calculate the policy loss\n",
        "            policy_loss = calculate_policy_loss(rewards, action_logprobs)\n",
        "\n",
        "            # Zero out the gradients (otherwise they would\n",
        "            # accumulate between optimization steps)\n",
        "            optimizer.zero_grad()\n",
        "\n",
        "            # Perform backpropagation to calculate policy model\n",
        "            # parameter gradients, which inform on how to tweak\n",
        "            # parameters to reduce loss, capturing both direction and scale\n",
        "            policy_loss.backward()\n",
        "\n",
        "            # Perform an optimization step, using gradients calculated\n",
        "            # during backpropagation to adjust model parameters in the direction\n",
        "            # that is likely to make the loss smaller (adjustment is scaled\n",
        "            # down by magnitude of learning rate)\n",
        "            optimizer.step()\n",
        "\n",
        "            # Store total reward to plot at end of training\n",
        "            total_reward = np.array(rewards).sum()\n",
        "            episode_rewards.append(total_reward)\n",
        "            episode_policy_losses.append(policy_loss.item())\n",
        "\n",
        "            # Log metrics to W&B if enabled\n",
        "            if use_wandb:\n",
        "                wandb.log({\n",
        "                    \"episode\": episode + 1,\n",
        "                    \"reward\": total_reward,\n",
        "                    \"policy_loss\": policy_loss.item()\n",
        "                })\n",
        "\n",
        "            # Every N episodes, calculate the average reward of those episodes,\n",
        "            # if it passes a threshold, the environment is considered to be solved\n",
        "            # (NOTE: we need to make sure the average is above the threshold to\n",
        "            # discount for episodes where the policy was just lucky)\n",
        "            if (episode + 1) % average_reward_window == 0:\n",
        "                average_reward = np.mean(episode_rewards[-average_reward_window:])\n",
        "                if log: print(f\"Episode {episode + 1}, Avg Reward: {average_reward}, Policy Loss: {policy_loss.item()}\")\n",
        "                if average_reward >= average_reward_threshold:\n",
        "                    solved = True\n",
        "                    break\n",
        "\n",
        "        # Print final stats\n",
        "        elapsed = time.time() - start\n",
        "        if log: print(f\"{'Solved' if solved else 'Finished'} in {episode} episodes; {elapsed:.2f} seconds; average reward: {average_reward}\")\n",
        "\n",
        "        # Log final summary to W&B\n",
        "        if use_wandb:\n",
        "            average_reward = np.mean(episode_rewards[-average_reward_window:])\n",
        "            wandb.summary[\"solved\"] = solved\n",
        "            wandb.summary[\"episode\"] = episode\n",
        "            wandb.summary[\"avg_reward\"] = average_reward\n",
        "            wandb.summary[\"elapsed\"] = elapsed\n",
        "    finally:\n",
        "        # In case wandb is enabled, finish run\n",
        "        if use_wandb: wandb.finish()\n",
        "\n",
        "    return {\n",
        "        \"solved\" : solved,\n",
        "        \"elapsed\" : elapsed,\n",
        "        \"episodes\" : episode,\n",
        "        \"episode_rewards\": episode_rewards,\n",
        "        \"episode_policy_losses\": episode_policy_losses\n",
        "    }\n",
        "\n",
        "# Train the policy model\n",
        "train_results = train(env, model)\n",
        "episode_rewards = train_results[\"episode_rewards\"]\n",
        "episode_policy_losses = train_results[\"episode_policy_losses\"]\n",
        "episode_rewards[:3] + [\"...\"] + episode_rewards[-3:]\n",
        "episode_policy_losses[:3] + [\"...\"] + episode_policy_losses[-3:]"
      ]
    },
    {
      "cell_type": "markdown",
      "metadata": {
        "id": "jgODdhVG6r5z"
      },
      "source": [
        "The model has finished training \ud83c\udf89; let's plot its progress \ud83d\udcc8:"
      ]
    },
    {
      "cell_type": "code",
      "execution_count": 22,
      "metadata": {
        "colab": {
          "base_uri": "https://localhost:8080/",
          "height": 507
        },
        "id": "chMiRgZ46Ins",
        "outputId": "d754bece-a16d-4331-cadb-b72383d22132"
      },
      "outputs": [
        {
          "output_type": "execute_result",
          "data": {
            "text/plain": [
              "<Figure size 1200x500 with 2 Axes>"
            ],
            "image/png": "[encoded data removed]"
          },
          "metadata": {},
          "execution_count": 22
        }
      ],
      "source": [
        "import matplotlib.pyplot as plt\n",
        "\n",
        "def plot_train_results(results):\n",
        "    rewards = results[\"episode_rewards\"]\n",
        "    policy_losses = results[\"episode_policy_losses\"]\n",
        "\n",
        "    fig, axes = plt.subplots(1, 2, figsize=(12, 5))  # Create figure and subplots\n",
        "\n",
        "    # First subplot for rewards\n",
        "    axes[0].set_xlabel('Episodes')\n",
        "    axes[0].set_ylabel('Reward')\n",
        "    axes[0].grid(True)\n",
        "    axes[0].plot(rewards, color='green')\n",
        "    axes[0].set_title('Rewards')\n",
        "\n",
        "    # Second subplot for policy losses\n",
        "    axes[1].set_xlabel('Episodes')\n",
        "    axes[1].set_ylabel('Loss')\n",
        "    axes[1].grid(True)\n",
        "    axes[1].plot(policy_losses, color='red')\n",
        "    axes[1].set_title('Losses')\n",
        "\n",
        "    plt.tight_layout()  # Adjusts spacing between plots\n",
        "\n",
        "    plt.close(fig)  # Suppress automatic rendering\n",
        "\n",
        "    return fig\n",
        "\n",
        "plot_train_results(train_results)"
      ]
    },
    {
      "cell_type": "markdown",
      "metadata": {
        "id": "rScKWvvY6woX"
      },
      "source": [
        "We paused upon reaching our reward threshold \ud83c\udfaf due to training instability. Continuing could lead to suboptimal behaviors \u26a0\ufe0f and performance decline \ud83d\udcc9. To train longer while minimizing this risk, we should save model snapshots \ud83d\udcbe whenever a new best reward is achieved \ud83c\udfc6, allowing us to revert to the best-performing version at the end of training \ud83d\udd04."
      ]
    },
    {
      "cell_type": "markdown",
      "metadata": {
        "id": "dn5C84eaZaKc"
      },
      "source": [
        "## Evaluate Policy \ud83d\udcca\ud83d\udcdd"
      ]
    },
    {
      "cell_type": "markdown",
      "metadata": {
        "id": "c0tWeRUh7Hs1"
      },
      "source": [
        "A good reward during training isn't sufficient; the true test is running the trained policy multiple times in the environment \ud83c\udf0d to assess reward consistency. Averaging these rewards \ud83d\udcca measures the policy's effectiveness."
      ]
    },
    {
      "cell_type": "code",
      "execution_count": 23,
      "metadata": {
        "colab": {
          "base_uri": "https://localhost:8080/",
          "height": 768
        },
        "id": "Zi-wZGOsv00_",
        "outputId": "a39c8cca-ee31-48a6-df80-935683fa50bf"
      },
      "outputs": [
        {
          "output_type": "display_data",
          "data": {
            "text/plain": [
              "<IPython.core.display.HTML object>"
            ],
            "text/html": [
              "Tracking run with wandb version 0.19.7"
            ]
          },
          "metadata": {}
        },
        {
          "output_type": "display_data",
          "data": {
            "text/plain": [
              "<IPython.core.display.HTML object>"
            ],
            "text/html": [
              "Run data is saved locally in <code>/content/wandb/run-20250228_140222-qxu4qr6c</code>"
            ]
          },
          "metadata": {}
        },
        {
          "output_type": "display_data",
          "data": {
            "text/plain": [
              "<IPython.core.display.HTML object>"
            ],
            "text/html": [
              "Syncing run <strong><a href='https://wandb.ai/tsilva/CartPole-v1/runs/qxu4qr6c' target=\"_blank\">twilight-aardvark-11</a></strong> to <a href='https://wandb.ai/tsilva/CartPole-v1' target=\"_blank\">Weights & Biases</a> (<a href='https://wandb.me/developer-guide' target=\"_blank\">docs</a>)<br>"
            ]
          },
          "metadata": {}
        },
        {
          "output_type": "display_data",
          "data": {
            "text/plain": [
              "<IPython.core.display.HTML object>"
            ],
            "text/html": [
              " View project at <a href='https://wandb.ai/tsilva/CartPole-v1' target=\"_blank\">https://wandb.ai/tsilva/CartPole-v1</a>"
            ]
          },
          "metadata": {}
        },
        {
          "output_type": "display_data",
          "data": {
            "text/plain": [
              "<IPython.core.display.HTML object>"
            ],
            "text/html": [
              " View run at <a href='https://wandb.ai/tsilva/CartPole-v1/runs/qxu4qr6c' target=\"_blank\">https://wandb.ai/tsilva/CartPole-v1/runs/qxu4qr6c</a>"
            ]
          },
          "metadata": {}
        },
        {
          "output_type": "stream",
          "name": "stdout",
          "text": [
            "Episode: 1, Avg Reward: 500.0\n",
            "Episode: 2, Avg Reward: 500.0\n",
            "Episode: 3, Avg Reward: 236.0\n",
            "Episode: 4, Avg Reward: 500.0\n",
            "Episode: 5, Avg Reward: 500.0\n",
            "Episode: 6, Avg Reward: 294.0\n",
            "Episode: 7, Avg Reward: 500.0\n",
            "Episode: 8, Avg Reward: 500.0\n",
            "Episode: 9, Avg Reward: 500.0\n",
            "Episode: 10, Avg Reward: 500.0\n",
            "Mean reward over 10 episodes: 453.0\n"
          ]
        },
        {
          "output_type": "display_data",
          "data": {
            "text/plain": [
              "<IPython.core.display.HTML object>"
            ],
            "text/html": []
          },
          "metadata": {}
        },
        {
          "output_type": "display_data",
          "data": {
            "text/plain": [
              "<IPython.core.display.HTML object>"
            ],
            "text/html": [
              " View run <strong style=\"color:#cdcd00\">twilight-aardvark-11</strong> at: <a href='https://wandb.ai/tsilva/CartPole-v1/runs/qxu4qr6c' target=\"_blank\">https://wandb.ai/tsilva/CartPole-v1/runs/qxu4qr6c</a><br> View project at: <a href='https://wandb.ai/tsilva/CartPole-v1' target=\"_blank\">https://wandb.ai/tsilva/CartPole-v1</a><br>Synced 5 W&B file(s), 0 media file(s), 0 artifact file(s) and 0 other file(s)"
            ]
          },
          "metadata": {}
        },
        {
          "output_type": "display_data",
          "data": {
            "text/plain": [
              "<IPython.core.display.HTML object>"
            ],
            "text/html": [
              "Find logs at: <code>./wandb/run-20250228_140222-qxu4qr6c/logs</code>"
            ]
          },
          "metadata": {}
        },
        {
          "output_type": "execute_result",
          "data": {
            "text/plain": [
              "<IPython.core.display.HTML object>"
            ],
            "text/html": [
              "\n",
              "        <video width=\"608\" height=\"400\" controls autoplay loop muted>\n",
              "            <source src=\"data:video/mp4;base64,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\" type=\"video/mp4\">\n",
              "            Your browser does not support the video tag.\n",
              "        </video>\n",
              "    "
            ]
          },
          "metadata": {},
          "execution_count": 23
        }
      ],
      "source": [
        "from IPython.display import clear_output\n",
        "\n",
        "def evaluate(\n",
        "    env,\n",
        "    model,\n",
        "    n_episodes=10,\n",
        "    use_wandb=None,\n",
        "    wandb_project=None,\n",
        "    seed=None,\n",
        "    log=True\n",
        "):\n",
        "    if use_wandb is None: use_wandb = CONFIG[\"use_wandb\"]\n",
        "    if wandb_project is None: wandb_project = CONFIG.get(\"wandb_project\", env.spec.id)\n",
        "    if seed is None: seed = CONFIG[\"seed\"]\n",
        "\n",
        "    # In case wandb is enabled, initialize run\n",
        "    if use_wandb: wandb.init(project=wandb_project, config=CONFIG)\n",
        "\n",
        "    try:\n",
        "        # Set seeds to make evaluations deterministic\n",
        "        torch.manual_seed(seed)\n",
        "        env.reset(seed=seed)\n",
        "\n",
        "        # Set the model in evaluation mode\n",
        "        model.eval()\n",
        "\n",
        "        # Run evaluation for N episodes\n",
        "        episode_rewards = []\n",
        "        for episode in range(n_episodes):\n",
        "            rewards, action_logprobs, frames = run_episode(env, model, train_mode=False)\n",
        "            episode_reward = np.array(rewards).sum()\n",
        "            episode_rewards.append(episode_reward)\n",
        "            if log: print(f\"Episode: {episode+1}, Avg Reward: {episode_reward}\")\n",
        "\n",
        "        # Print final stats\n",
        "        mean_reward = np.mean(episode_rewards)\n",
        "        if log: print(f\"Mean reward over {n_episodes} episodes: {mean_reward}\")\n",
        "\n",
        "        # Render last run's video\n",
        "        return render_video(frames)\n",
        "    finally:\n",
        "        # In case wandb is enabled, initialize run\n",
        "        if use_wandb: wandb.finish()\n",
        "\n",
        "evaluate(env, model, n_episodes=10)"
      ]
    },
    {
      "cell_type": "markdown",
      "metadata": {
        "id": "sCv6x-xzElSA"
      },
      "source": [
        "## Keep Improving \ud83d\ude80\u2728"
      ]
    },
    {
      "cell_type": "markdown",
      "metadata": {
        "id": "SDLxJaS0Ex6c"
      },
      "source": [
        "And we're done! \ud83c\udf89 To keep going, consider running these experiments:\n",
        "\n",
        "- **Increase `LEARNING_RATE`**: Set to `0.01` to speed up training\u2014observe if rewards increase faster. \ud83d\ude80\n",
        "- **Decrease `LEARNING_RATE`**: Lower to `0.001` for cautious updates\u2014see how it stabilizes the learning curve. \ud83d\udcc9\n",
        "- **Modify `DISCOUNT_FACTOR`**: Use `0.95` to prioritize short-term rewards\u2014plot results for changes. \ud83d\udcca\n",
        "- **Enhance `HIDDEN_SIZE`**: Raise to `256` for a stronger network\u2014test performance on the pole. \ud83c\udfcb\ufe0f\u200d\u2642\ufe0f\n",
        "- **Increase `AVERAGE_REWARD_THRESHOLD`**: Raise to `500` to push policy toward near-perfect performance. \ud83c\udf1f\n",
        "- **Increase `AVERAGE_REWARD_WINDOW`**: Ensure `AVERAGE_REWARD_THRESHOLD` is consistently surpassed. \ud83d\udd04\n",
        "- **Implement a baseline**: Subtract the average return from past episodes from `returns` before scaling to reduce variability. \u2696\ufe0f\n",
        "- **Explore different environments**: Run the codebase in similar environments like:\n",
        "  - [Acrobot-v1](https://gymnasium.farama.org/environments/classic_control/acrobot/) \ud83e\udd16\n",
        "  - [MountainCar-v0](https://www.gymlibrary.dev/environments/classic_control/mountain_car/) \u26f0\ufe0f\n",
        "  - [LunarLander-v3](https://www.gymlibrary.dev/environments/box2d/lunar_lander/) \ud83c\udf15\n",
        "  - [Blackjack-v1](https://www.gymlibrary.dev/environments/toy_text/blackjack/) \u2660\ufe0f\n",
        "  - [FrozenLake-v1](https://www.gymlibrary.dev/environments/toy_text/frozen_lake/) \u2744\ufe0f\n",
        "\n",
        "Adjust parameters one at a time, rerun the code, and discover your optimal setup! \ud83d\udd0d"
      ]
    },
    {
      "cell_type": "markdown",
      "metadata": {
        "id": "yDHqRk-786qx"
      },
      "source": [
        "Let's setup some utils for you to be able to run multiple experiments with different hyperparameter configurations and compare how their results stack up:"
      ]
    },
    {
      "cell_type": "code",
      "execution_count": 24,
      "metadata": {
        "id": "a-2PnH0Of_Jz"
      },
      "outputs": [],
      "source": [
        "import json\n",
        "from tqdm import tqdm\n",
        "\n",
        "def apply_config(config):\n",
        "    # Apply provided config to global config, this will ensure\n",
        "    # that running previously declared methods such as train\n",
        "    # will make them behave differently as they rely on this config object\n",
        "    global CONFIG\n",
        "    for key, value in ORIGINAL_CONFIG.items(): CONFIG[key] = value\n",
        "    for key, value in config.items(): CONFIG[key] = value\n",
        "    return CONFIG\n",
        "\n",
        "def run_experiment(config):\n",
        "    # Merge experiment config, apply to\n",
        "    # global config object and return it\n",
        "    config = apply_config(config)\n",
        "\n",
        "    # Log experiment start\n",
        "    print()\n",
        "    print(f\"Experiment started: {json.dumps(config, indent=2)}\")\n",
        "\n",
        "    # Build enviroment from scratch\n",
        "    env_id = config[\"env_id\"]\n",
        "    env = build_env(env_id)\n",
        "\n",
        "    # Build policy model from scratch\n",
        "    # (fresh new parameters)\n",
        "    model = build_model(env)\n",
        "\n",
        "    # Train the model\n",
        "    train_results = train(env, model, log=False)\n",
        "\n",
        "    # Evaluate the trained model\n",
        "    eval_results = evaluate(env, model, log=False)\n",
        "\n",
        "    # Log the end of the experiment\n",
        "    result = {\n",
        "        \"config\" : {**config},\n",
        "        \"train\" : train_results,\n",
        "        \"eval\" : eval_results\n",
        "    }\n",
        "    _train_results = {**train_results}\n",
        "    del _train_results[\"episode_rewards\"]\n",
        "    del _train_results[\"episode_policy_losses\"]\n",
        "    print(f\"Experiment finished: {json.dumps(_train_results, indent=2)}\")\n",
        "\n",
        "    # Return experiment result\n",
        "    return result\n",
        "\n",
        "def run_experiments(experiments):\n",
        "    # Run all experiments and return the experiment results\n",
        "    results = []\n",
        "    for index, experiment in tqdm(enumerate(experiments), total=len(experiments), desc=\"Running Experiments\"):\n",
        "        result = run_experiment(experiment)\n",
        "        results.append(result)\n",
        "    return results"
      ]
    },
    {
      "cell_type": "markdown",
      "metadata": {
        "id": "uNLTGvrxq0n6"
      },
      "source": [
        "This is the default configuration:"
      ]
    },
    {
      "cell_type": "code",
      "execution_count": 25,
      "metadata": {
        "id": "yWl2oebeq5_f",
        "colab": {
          "base_uri": "https://localhost:8080/"
        },
        "outputId": "81dd9d53-87e2-43fe-9073-b6efcbf91a04"
      },
      "outputs": [
        {
          "output_type": "execute_result",
          "data": {
            "text/plain": [
              "{'seed': 42,\n",
              " 'env_id': 'CartPole-v1',\n",
              " 'discount_factor': 0.99,\n",
              " 'hidden_size': 128,\n",
              " 'learning_rate': 0.002,\n",
              " 'n_train_episodes': 5000,\n",
              " 'average_reward_window': 10,\n",
              " 'average_reward_threshold': None,\n",
              " 'normalize_returns': True,\n",
              " 'use_log_probs': True,\n",
              " 'use_wandb': True}"
            ]
          },
          "metadata": {},
          "execution_count": 25
        }
      ],
      "source": [
        "ORIGINAL_CONFIG"
      ]
    },
    {
      "cell_type": "markdown",
      "metadata": {
        "id": "1Qq9tqrY9fLG"
      },
      "source": [
        "Define your experiments below by listing parameter variations you want to test. Each configuration will be applied to the base settings and executed sequentially. The results will show which configuration solved the environment in the fewest episodes:\n"
      ]
    },
    {
      "cell_type": "code",
      "execution_count": 26,
      "metadata": {
        "colab": {
          "base_uri": "https://localhost:8080/",
          "height": 1000
        },
        "id": "S5KUp1To8cBW",
        "outputId": "d26d3bd3-61e7-4f20-c822-b51b1a900835"
      },
      "outputs": [
        {
          "output_type": "stream",
          "name": "stderr",
          "text": [
            "\rRunning Experiments:   0%|          | 0/1 [00:00<?, ?it/s]"
          ]
        },
        {
          "output_type": "stream",
          "name": "stdout",
          "text": [
            "\n",
            "Experiment started: {\n",
            "  \"seed\": 42,\n",
            "  \"env_id\": \"CartPole-v1\",\n",
            "  \"discount_factor\": 0.99,\n",
            "  \"hidden_size\": 256,\n",
            "  \"learning_rate\": 0.002,\n",
            "  \"n_train_episodes\": 5000,\n",
            "  \"average_reward_window\": 10,\n",
            "  \"average_reward_threshold\": null,\n",
            "  \"normalize_returns\": true,\n",
            "  \"use_log_probs\": true,\n",
            "  \"use_wandb\": true\n",
            "}\n"
          ]
        },
        {
          "output_type": "display_data",
          "data": {
            "text/plain": [
              "<IPython.core.display.HTML object>"
            ],
            "text/html": [
              "Tracking run with wandb version 0.19.7"
            ]
          },
          "metadata": {}
        },
        {
          "output_type": "display_data",
          "data": {
            "text/plain": [
              "<IPython.core.display.HTML object>"
            ],
            "text/html": [
              "Run data is saved locally in <code>/content/wandb/run-20250228_140254-5b1trel9</code>"
            ]
          },
          "metadata": {}
        },
        {
          "output_type": "display_data",
          "data": {
            "text/plain": [
              "<IPython.core.display.HTML object>"
            ],
            "text/html": [
              "Syncing run <strong><a href='https://wandb.ai/tsilva/CartPole-v1/runs/5b1trel9' target=\"_blank\">crisp-moon-12</a></strong> to <a href='https://wandb.ai/tsilva/CartPole-v1' target=\"_blank\">Weights & Biases</a> (<a href='https://wandb.me/developer-guide' target=\"_blank\">docs</a>)<br>"
            ]
          },
          "metadata": {}
        },
        {
          "output_type": "display_data",
          "data": {
            "text/plain": [
              "<IPython.core.display.HTML object>"
            ],
            "text/html": [
              " View project at <a href='https://wandb.ai/tsilva/CartPole-v1' target=\"_blank\">https://wandb.ai/tsilva/CartPole-v1</a>"
            ]
          },
          "metadata": {}
        },
        {
          "output_type": "display_data",
          "data": {
            "text/plain": [
              "<IPython.core.display.HTML object>"
            ],
            "text/html": [
              " View run at <a href='https://wandb.ai/tsilva/CartPole-v1/runs/5b1trel9' target=\"_blank\">https://wandb.ai/tsilva/CartPole-v1/runs/5b1trel9</a>"
            ]
          },
          "metadata": {}
        },
        {
          "output_type": "display_data",
          "data": {
            "text/plain": [
              "<IPython.core.display.HTML object>"
            ],
            "text/html": []
          },
          "metadata": {}
        },
        {
          "output_type": "display_data",
          "data": {
            "text/plain": [
              "<IPython.core.display.HTML object>"
            ],
            "text/html": [
              "<br>    <style><br>        .wandb-row {<br>            display: flex;<br>            flex-direction: row;<br>            flex-wrap: wrap;<br>            justify-content: flex-start;<br>            width: 100%;<br>        }<br>        .wandb-col {<br>            display: flex;<br>            flex-direction: column;<br>            flex-basis: 100%;<br>            flex: 1;<br>            padding: 10px;<br>        }<br>    </style><br><div class=\"wandb-row\"><div class=\"wandb-col\"><h3>Run history:</h3><br/><table class=\"wandb\"><tr><td>episode</td><td>\u2581\u2581\u2581\u2582\u2582\u2582\u2582\u2582\u2583\u2583\u2583\u2583\u2583\u2583\u2583\u2584\u2584\u2584\u2584\u2584\u2584\u2585\u2585\u2585\u2585\u2585\u2585\u2585\u2585\u2586\u2586\u2586\u2586\u2586\u2587\u2587\u2587\u2587\u2588\u2588</td></tr><tr><td>policy_loss</td><td>\u2585\u2582\u2583\u2587\u2588\u2584\u2581\u2582\u2581\u2583\u2582\u2581\u2583\u2584\u2582\u2583\u2583\u2583\u2582\u2584\u2582\u2583\u2582\u2583\u2582\u2582\u2583\u2583\u2582\u2582\u2583\u2583\u2582\u2583\u2583\u2582\u2582\u2583\u2582\u2583</td></tr><tr><td>reward</td><td>\u2581\u2581\u2581\u2581\u2581\u2581\u2581\u2581\u2581\u2581\u2581\u2581\u2581\u2582\u2581\u2582\u2581\u2582\u2581\u2582\u2583\u2583\u2583\u2583\u2583\u2584\u2584\u2581\u2583\u2584\u2583\u2583\u2583\u2588\u2585\u2584\u2586\u2585\u2588\u2585</td></tr></table><br/></div><div class=\"wandb-col\"><h3>Run summary:</h3><br/><table class=\"wandb\"><tr><td>avg_reward</td><td>488</td></tr><tr><td>elapsed</td><td>48.91461</td></tr><tr><td>episode</td><td>499</td></tr><tr><td>policy_loss</td><td>0.02193</td></tr><tr><td>reward</td><td>500</td></tr><tr><td>solved</td><td>True</td></tr></table><br/></div></div>"
            ]
          },
          "metadata": {}
        },
        {
          "output_type": "display_data",
          "data": {
            "text/plain": [
              "<IPython.core.display.HTML object>"
            ],
            "text/html": [
              " View run <strong style=\"color:#cdcd00\">crisp-moon-12</strong> at: <a href='https://wandb.ai/tsilva/CartPole-v1/runs/5b1trel9' target=\"_blank\">https://wandb.ai/tsilva/CartPole-v1/runs/5b1trel9</a><br> View project at: <a href='https://wandb.ai/tsilva/CartPole-v1' target=\"_blank\">https://wandb.ai/tsilva/CartPole-v1</a><br>Synced 5 W&B file(s), 0 media file(s), 0 artifact file(s) and 0 other file(s)"
            ]
          },
          "metadata": {}
        },
        {
          "output_type": "display_data",
          "data": {
            "text/plain": [
              "<IPython.core.display.HTML object>"
            ],
            "text/html": [
              "Find logs at: <code>./wandb/run-20250228_140254-5b1trel9/logs</code>"
            ]
          },
          "metadata": {}
        },
        {
          "output_type": "display_data",
          "data": {
            "text/plain": [
              "<IPython.core.display.HTML object>"
            ],
            "text/html": [
              "Tracking run with wandb version 0.19.7"
            ]
          },
          "metadata": {}
        },
        {
          "output_type": "display_data",
          "data": {
            "text/plain": [
              "<IPython.core.display.HTML object>"
            ],
            "text/html": [
              "Run data is saved locally in <code>/content/wandb/run-20250228_140347-kquvr2y1</code>"
            ]
          },
          "metadata": {}
        },
        {
          "output_type": "display_data",
          "data": {
            "text/plain": [
              "<IPython.core.display.HTML object>"
            ],
            "text/html": [
              "Syncing run <strong><a href='https://wandb.ai/tsilva/CartPole-v1/runs/kquvr2y1' target=\"_blank\">rose-aardvark-13</a></strong> to <a href='https://wandb.ai/tsilva/CartPole-v1' target=\"_blank\">Weights & Biases</a> (<a href='https://wandb.me/developer-guide' target=\"_blank\">docs</a>)<br>"
            ]
          },
          "metadata": {}
        },
        {
          "output_type": "display_data",
          "data": {
            "text/plain": [
              "<IPython.core.display.HTML object>"
            ],
            "text/html": [
              " View project at <a href='https://wandb.ai/tsilva/CartPole-v1' target=\"_blank\">https://wandb.ai/tsilva/CartPole-v1</a>"
            ]
          },
          "metadata": {}
        },
        {
          "output_type": "display_data",
          "data": {
            "text/plain": [
              "<IPython.core.display.HTML object>"
            ],
            "text/html": [
              " View run at <a href='https://wandb.ai/tsilva/CartPole-v1/runs/kquvr2y1' target=\"_blank\">https://wandb.ai/tsilva/CartPole-v1/runs/kquvr2y1</a>"
            ]
          },
          "metadata": {}
        },
        {
          "output_type": "display_data",
          "data": {
            "text/plain": [
              "<IPython.core.display.HTML object>"
            ],
            "text/html": []
          },
          "metadata": {}
        },
        {
          "output_type": "display_data",
          "data": {
            "text/plain": [
              "<IPython.core.display.HTML object>"
            ],
            "text/html": [
              " View run <strong style=\"color:#cdcd00\">rose-aardvark-13</strong> at: <a href='https://wandb.ai/tsilva/CartPole-v1/runs/kquvr2y1' target=\"_blank\">https://wandb.ai/tsilva/CartPole-v1/runs/kquvr2y1</a><br> View project at: <a href='https://wandb.ai/tsilva/CartPole-v1' target=\"_blank\">https://wandb.ai/tsilva/CartPole-v1</a><br>Synced 5 W&B file(s), 0 media file(s), 0 artifact file(s) and 0 other file(s)"
            ]
          },
          "metadata": {}
        },
        {
          "output_type": "display_data",
          "data": {
            "text/plain": [
              "<IPython.core.display.HTML object>"
            ],
            "text/html": [
              "Find logs at: <code>./wandb/run-20250228_140347-kquvr2y1/logs</code>"
            ]
          },
          "metadata": {}
        },
        {
          "output_type": "stream",
          "name": "stderr",
          "text": [
            "Running Experiments: 100%|\u2588\u2588\u2588\u2588\u2588\u2588\u2588\u2588\u2588\u2588| 1/1 [01:19<00:00, 79.65s/it]"
          ]
        },
        {
          "output_type": "stream",
          "name": "stdout",
          "text": [
            "Experiment finished: {\n",
            "  \"solved\": true,\n",
            "  \"elapsed\": 48.91460919380188,\n",
            "  \"episodes\": 499\n",
            "}\n"
          ]
        },
        {
          "output_type": "stream",
          "name": "stderr",
          "text": [
            "\n"
          ]
        },
        {
          "output_type": "execute_result",
          "data": {
            "text/plain": [
              "{'seed': 42,\n",
              " 'env_id': 'CartPole-v1',\n",
              " 'discount_factor': 0.99,\n",
              " 'hidden_size': 256,\n",
              " 'learning_rate': 0.002,\n",
              " 'n_train_episodes': 5000,\n",
              " 'average_reward_window': 10,\n",
              " 'average_reward_threshold': None,\n",
              " 'normalize_returns': True,\n",
              " 'use_log_probs': True,\n",
              " 'use_wandb': True}"
            ]
          },
          "metadata": {},
          "execution_count": 26
        }
      ],
      "source": [
        "experiments = [\n",
        "    {\n",
        "        \"hidden_size\" : 256\n",
        "    }\n",
        "]\n",
        "results = run_experiments(experiments)\n",
        "results = [x for x in results if x[\"train\"][\"solved\"]]\n",
        "results = sorted(results, key=lambda x: x[\"train\"][\"episodes\"])\n",
        "results[0][\"config\"]"
      ]
    }
  ],
  "metadata": {
    "colab": {
      "provenance": [],
      "toc_visible": true,
      "include_colab_link": true
    },
    "kernelspec": {
      "display_name": "Python 3",
      "name": "python3"
    },
    "language_info": {
      "name": "python"
    }
  },
  "nbformat": 4,
  "nbformat_minor": 0
}